{
  "nbformat": 4,
  "nbformat_minor": 0,
  "metadata": {
    "colab": {
      "provenance": []
    },
    "kernelspec": {
      "name": "python3",
      "display_name": "Python 3"
    },
    "language_info": {
      "name": "python"
    }
  },
  "cells": [
    {
      "cell_type": "code",
      "source": [
        "!pip install rapidfuzz textdistance catboost"
      ],
      "metadata": {
        "colab": {
          "base_uri": "https://localhost:8080/"
        },
        "id": "8qzDQkJ_5W0o",
        "outputId": "969559ea-b464-4401-df6d-dcdf086d7d84"
      },
      "execution_count": 11,
      "outputs": [
        {
          "output_type": "stream",
          "name": "stdout",
          "text": [
            "Looking in indexes: https://pypi.org/simple, https://us-python.pkg.dev/colab-wheels/public/simple/\n",
            "Requirement already satisfied: rapidfuzz in /usr/local/lib/python3.10/dist-packages (3.1.1)\n",
            "Requirement already satisfied: textdistance in /usr/local/lib/python3.10/dist-packages (4.5.0)\n",
            "Requirement already satisfied: catboost in /usr/local/lib/python3.10/dist-packages (1.2)\n",
            "Requirement already satisfied: graphviz in /usr/local/lib/python3.10/dist-packages (from catboost) (0.20.1)\n",
            "Requirement already satisfied: matplotlib in /usr/local/lib/python3.10/dist-packages (from catboost) (3.7.1)\n",
            "Requirement already satisfied: numpy>=1.16.0 in /usr/local/lib/python3.10/dist-packages (from catboost) (1.22.4)\n",
            "Requirement already satisfied: pandas>=0.24 in /usr/local/lib/python3.10/dist-packages (from catboost) (1.5.3)\n",
            "Requirement already satisfied: scipy in /usr/local/lib/python3.10/dist-packages (from catboost) (1.10.1)\n",
            "Requirement already satisfied: plotly in /usr/local/lib/python3.10/dist-packages (from catboost) (5.13.1)\n",
            "Requirement already satisfied: six in /usr/local/lib/python3.10/dist-packages (from catboost) (1.16.0)\n",
            "Requirement already satisfied: python-dateutil>=2.8.1 in /usr/local/lib/python3.10/dist-packages (from pandas>=0.24->catboost) (2.8.2)\n",
            "Requirement already satisfied: pytz>=2020.1 in /usr/local/lib/python3.10/dist-packages (from pandas>=0.24->catboost) (2022.7.1)\n",
            "Requirement already satisfied: contourpy>=1.0.1 in /usr/local/lib/python3.10/dist-packages (from matplotlib->catboost) (1.1.0)\n",
            "Requirement already satisfied: cycler>=0.10 in /usr/local/lib/python3.10/dist-packages (from matplotlib->catboost) (0.11.0)\n",
            "Requirement already satisfied: fonttools>=4.22.0 in /usr/local/lib/python3.10/dist-packages (from matplotlib->catboost) (4.40.0)\n",
            "Requirement already satisfied: kiwisolver>=1.0.1 in /usr/local/lib/python3.10/dist-packages (from matplotlib->catboost) (1.4.4)\n",
            "Requirement already satisfied: packaging>=20.0 in /usr/local/lib/python3.10/dist-packages (from matplotlib->catboost) (23.1)\n",
            "Requirement already satisfied: pillow>=6.2.0 in /usr/local/lib/python3.10/dist-packages (from matplotlib->catboost) (8.4.0)\n",
            "Requirement already satisfied: pyparsing>=2.3.1 in /usr/local/lib/python3.10/dist-packages (from matplotlib->catboost) (3.1.0)\n",
            "Requirement already satisfied: tenacity>=6.2.0 in /usr/local/lib/python3.10/dist-packages (from plotly->catboost) (8.2.2)\n"
          ]
        }
      ]
    },
    {
      "cell_type": "code",
      "source": [
        "from google.colab import drive\n",
        "drive.mount(\"/content/drive\")"
      ],
      "metadata": {
        "colab": {
          "base_uri": "https://localhost:8080/"
        },
        "id": "tNCDq3KrN94J",
        "outputId": "752c8b14-1589-4840-d454-af101adadabc"
      },
      "execution_count": 1,
      "outputs": [
        {
          "output_type": "stream",
          "name": "stdout",
          "text": [
            "Drive already mounted at /content/drive; to attempt to forcibly remount, call drive.mount(\"/content/drive\", force_remount=True).\n"
          ]
        }
      ]
    },
    {
      "cell_type": "code",
      "source": [
        "%matplotlib inline\n",
        "import joblib\n",
        "import numpy as np\n",
        "import pandas as pd\n",
        "import random\n",
        "from tqdm import tqdm\n",
        "from typing import List, Union\n",
        "tqdm.pandas()\n",
        "\n",
        "import matplotlib.pyplot as plt\n",
        "import seaborn as sns\n",
        "\n",
        "from nltk import everygrams\n",
        "import re\n",
        "import textdistance\n",
        "from unicodedata import normalize, category\n",
        "\n",
        "from catboost import CatBoostClassifier\n",
        "import rapidfuzz\n",
        "from sklearn.calibration import CalibratedClassifierCV\n",
        "from sklearn.metrics import (roc_curve,\n",
        "                             roc_auc_score,\n",
        "                             classification_report,\n",
        "                             confusion_matrix,\n",
        "                             ConfusionMatrixDisplay)\n",
        "from sklearn.model_selection import (RandomizedSearchCV,\n",
        "                                     StratifiedShuffleSplit,\n",
        "                                     train_test_split)"
      ],
      "metadata": {
        "id": "zidmqKx6_Eqn"
      },
      "execution_count": 96,
      "outputs": []
    },
    {
      "cell_type": "code",
      "source": [
        "all_documents = joblib.load(\"/content/drive/MyDrive/hack_2023_06/all_documents_v3.pkl\")"
      ],
      "metadata": {
        "id": "hFrPMMuWZckS"
      },
      "execution_count": 3,
      "outputs": []
    },
    {
      "cell_type": "markdown",
      "source": [
        "# Extract \"golden name\" from file"
      ],
      "metadata": {
        "id": "ujaHBxN30QT6"
      }
    },
    {
      "cell_type": "code",
      "source": [
        "CLOSINGS = [\n",
        "  'материалы инженерных изысканий',\n",
        "  'технический отч[ёе]т',\n",
        "  'проектная документация',\n",
        "  'отч[ёе]тная документация',\n",
        "  'инженерные изыскания',\n",
        "  'отч[ёе]тная техническая документация'\n",
        "]\n",
        "\n",
        "OPENINGS = [\n",
        "  'государственный контракт',\n",
        "  'технический отч[ёе]т',\n",
        "  'научно-проектная документация',\n",
        "  'размещение объекта'\n",
        "]\n",
        "\n",
        "\n",
        "closing_re = re.compile(r\"([\\S\\s]+)((?<=\\n\\n)(?:{}))\".format(\"|\".join(CLOSINGS)), re.IGNORECASE)\n",
        "opening_re = re.compile(r\"((?<=\\n\\n)(?:{}))([\\S\\s]+)\".format(\"|\".join(OPENINGS)), re.IGNORECASE)\n",
        "broken_hyphen_re = re.compile(r\"(?<=[a-zа-я])- (?=[a-zа-я])\")\n",
        "paragraph_re = re.compile(r\"\\n\\n(?![a-zа-я])\")\n",
        "\n",
        "\n",
        "def extract_main_name_candidate(m: str) -> str:\n",
        "  try:\n",
        "    m = closing_re.search(m).groups()[0]\n",
        "    m = re.sub(\"(?:{})\".format(\"|\".join(CLOSINGS)), \"\", m, flags=re.IGNORECASE).strip()\n",
        "    return opening_re.search(m).groups()[1]\n",
        "  except Exception as e:\n",
        "    return m.split(\"\\n\\n\")[-1]\n",
        "\n",
        "\n",
        "def broken_hyphen(text: str) -> str:\n",
        "  return broken_hyphen_re.sub(\"\", text)\n",
        "\n",
        "\n",
        "def filter_matches(match_: str) -> Union[str, None]:\n",
        "  match_ = paragraph_re.split(match_)[-1].strip()\n",
        "  if len(match_) > 5:\n",
        "    return broken_hyphen(match_)"
      ],
      "metadata": {
        "id": "kB_wf9ICLCQU"
      },
      "execution_count": 8,
      "outputs": []
    },
    {
      "cell_type": "code",
      "source": [
        "main_names = {}\n",
        "\n",
        "for document_group, documents in all_documents.items():\n",
        "  main_names[document_group] = main_names.get(document_group, {})\n",
        "  for document_name, parsed_content in tqdm(documents.items()):\n",
        "    if type(parsed_content) != str:\n",
        "      for page_num, content in parsed_content.items():\n",
        "        if page_num < 2:\n",
        "          res = extract_main_name_candidate(content[\"text\"])\n",
        "          if len(res) > 0:\n",
        "            main_names[document_group][document_name] = filter_matches(res)\n",
        "            break"
      ],
      "metadata": {
        "colab": {
          "base_uri": "https://localhost:8080/"
        },
        "id": "riFbQfk90Ovn",
        "outputId": "c9100351-1d97-40f2-b763-65d316b133f7"
      },
      "execution_count": 9,
      "outputs": [
        {
          "output_type": "stream",
          "name": "stderr",
          "text": [
            "100%|██████████| 22/22 [00:00<00:00, 61.65it/s]\n",
            "100%|██████████| 14/14 [00:00<00:00, 491.73it/s]\n",
            "100%|██████████| 36/36 [00:00<00:00, 82.75it/s]\n"
          ]
        }
      ]
    },
    {
      "cell_type": "code",
      "source": [
        "main_names[\"doc1\"][\"doc_1_Раздел ПД №2_Том 2_51-ППО.00027-21_СКЭ-25982.pdf\"]"
      ],
      "metadata": {
        "colab": {
          "base_uri": "https://localhost:8080/",
          "height": 35
        },
        "id": "AWLZnA59etiW",
        "outputId": "1a2a0531-72c7-4c62-da9d-fef8a1f5220e"
      },
      "execution_count": 10,
      "outputs": [
        {
          "output_type": "execute_result",
          "data": {
            "text/plain": [
              "'Капитальный ремонт автомобильной дороги Р-215 Астрахань - Кочубей - Кизляр - Махачкала, подъезд к г. Грозный на участке км 70+127 – км 85+267, Чеченская Республика'"
            ],
            "application/vnd.google.colaboratory.intrinsic+json": {
              "type": "string"
            }
          },
          "metadata": {},
          "execution_count": 10
        }
      ]
    },
    {
      "cell_type": "markdown",
      "source": [
        "# Extract candidates for classification"
      ],
      "metadata": {
        "id": "UUYKGmkG5Yqf"
      }
    },
    {
      "cell_type": "code",
      "source": [
        "HYPHENS = {\n",
        "    '-',  # \\u002d Hyphen-minus\n",
        "    '‐',  # \\u2010 Hyphen\n",
        "    '‑',  # \\u2011 Non-breaking hyphen\n",
        "    '⁃',  # \\u2043 Hyphen bullet\n",
        "    '‒',  # \\u2012 figure dash\n",
        "    '–',  # \\u2013 en dash\n",
        "    '—',  # \\u2014 em dash\n",
        "    '―',  # \\u2015 horizontal bar\n",
        "}\n",
        "\n",
        "MINUSES = {\n",
        "    '-',  # \\u002d Hyphen-minus\n",
        "    '−',  # \\u2212 Minus\n",
        "    '－',  # \\uff0d Full-width Hyphen-minus\n",
        "    '⁻',  # \\u207b Superscript minus\n",
        "}\n",
        "\n",
        "PLUSES = {\n",
        "    '+',  # \\u002b Plus\n",
        "    '＋',  # \\uff0b Full-width Plus\n",
        "    '⁺',  # \\u207a Superscript plus\n",
        "}\n",
        "\n",
        "SLASHES = {\n",
        "    '/',  # \\u002f Solidus\n",
        "    '⁄',  # \\u2044 Fraction slash\n",
        "    '∕',  # \\u2215 Division slash\n",
        "}\n",
        "\n",
        "\n",
        "APOSTROPHES = {\n",
        "    \"'\",  # \\u0027\n",
        "    '’',  # \\u2019\n",
        "    '՚',  # \\u055a\n",
        "    'Ꞌ',  # \\ua78b\n",
        "    'ꞌ',  # \\ua78c\n",
        "    '＇',  # \\uff07\n",
        "}\n",
        "\n",
        "SINGLE_QUOTES = {\n",
        "    \"'\",  # \\u0027\n",
        "    '‘',  # \\u2018\n",
        "    '’',  # \\u2019\n",
        "    '‚',  # \\u201a\n",
        "    '‛',  # \\u201b\n",
        "\n",
        "}\n",
        "\n",
        "DOUBLE_QUOTES = {\n",
        "    '\"',  # \\u0022\n",
        "    '“',  # \\u201c\n",
        "    '”',  # \\u201d\n",
        "    '„',  # \\u201e\n",
        "    '‟',  # \\u201f\n",
        "    '«',\n",
        "    '»'\n",
        "}\n",
        "\n",
        "ACCENTS = {\n",
        "    '`',  # \\u0060\n",
        "    '´',  # \\u00b4\n",
        "}\n",
        "\n",
        "PRIMES = {\n",
        "    '′',  # \\u2032\n",
        "    '″',  # \\u2033\n",
        "    '‴',  # \\u2034\n",
        "    '‵',  # \\u2035\n",
        "    '‶',  # \\u2036\n",
        "    '‷',  # \\u2037\n",
        "    '⁗',  # \\u2057\n",
        "}\n",
        "\n",
        "QUOTES = APOSTROPHES | SINGLE_QUOTES | DOUBLE_QUOTES | ACCENTS | PRIMES\n",
        "DASHES = HYPHENS | MINUSES"
      ],
      "metadata": {
        "id": "OiUb4iNnyVQ3"
      },
      "execution_count": 15,
      "outputs": []
    },
    {
      "cell_type": "code",
      "source": [
        "# поправить пунктуацию\n",
        "char2idx_1 = re.compile(r\"й\")\n",
        "char2idx_2 = re.compile(r\"ё\")\n",
        "idx2char_1 = re.compile(r\"<p>99</p>\")\n",
        "idx2char_2 = re.compile(r\"<p>98</p>\")\n",
        "\n",
        "trash_punct = re.compile(f\"[(),№;<>%‰*•{''.join(QUOTES)}]+\")\n",
        "double_space = re.compile(r\"\\s+\")\n",
        "\n",
        "\n",
        "def remove_accents(text: str) -> str:\n",
        "    text = char2idx_1.sub(idx2char_1.pattern, text)\n",
        "    text = char2idx_2.sub(idx2char_2.pattern, text)\n",
        "    text = \"\".join(c for c in normalize(\"NFD\", text)\n",
        "                   if category(c) != \"Mn\")\n",
        "    text = idx2char_1.sub(\"й\", text)\n",
        "    text = idx2char_2.sub(\"ё\", text)\n",
        "    return text\n",
        "\n",
        "\n",
        "def filter_short_paragraphs(text: str,\n",
        "                            min_token_len: int = 2,\n",
        "                            min_char_len: int = 10) -> str:\n",
        "  paragraphs = text.split(\"\\n\\n\")\n",
        "  return \"\\n\\n\".join([i for i in paragraphs\n",
        "                      if len(i) >= min_char_len\n",
        "                        and len(i.split()) >= min_token_len])\n",
        "\n",
        "\n",
        "def preprocess_text(text: str) -> str:\n",
        "  text = broken_hyphen(filter_short_paragraphs(text))\n",
        "  text = text.lower()\n",
        "  text = remove_accents(text)\n",
        "\n",
        "  for slash in SLASHES:\n",
        "    text = text.replace(slash, \"/\")\n",
        "  for dash in DASHES:\n",
        "    text = text.replace(dash, \"-\")\n",
        "  for plus in PLUSES:\n",
        "    text = text.replace(plus, \"+\")\n",
        "\n",
        "  text = trash_punct.sub(\" \", text)\n",
        "  text = double_space.sub(\" \", text)\n",
        "  return text.strip()"
      ],
      "metadata": {
        "id": "zIzC-WCx5M6s"
      },
      "execution_count": 16,
      "outputs": []
    },
    {
      "cell_type": "code",
      "source": [
        "CANDIDATES_SIMILARITY = 50\n",
        "candidates = []\n",
        "\n",
        "for group_name, documents in tqdm(all_documents.items()):\n",
        "  for document_name, parsed_content in documents.items():\n",
        "    if type(parsed_content) != str and main_names[group_name].get(document_name):\n",
        "      for page_num, context in parsed_content.items():\n",
        "          processed_golden_name = preprocess_text(main_names[group_name][document_name])\n",
        "          processed_annots = list(map(preprocess_text, context[\"annots\"]))\n",
        "          if len(processed_annots) > 0:\n",
        "            if len(set(processed_golden_name.split()) & (set(processed_golden_name.split()))) < 2:\n",
        "              break\n",
        "          raw_candidates = [\" \".join(ngram) for ngram in everygrams(preprocess_text(context[\"text\"]).split(),\n",
        "                                                                    min_len=int(len(processed_golden_name.split())/1.5),\n",
        "                                                                    max_len=len(processed_golden_name.split())+5)]\n",
        "          for candidate in raw_candidates:\n",
        "              score = rapidfuzz.fuzz.QRatio(processed_golden_name, candidate)\n",
        "              if score > CANDIDATES_SIMILARITY:\n",
        "                  candidates.append(( group_name,\n",
        "                                      document_name,\n",
        "                                      page_num,\n",
        "                                      candidate,\n",
        "                                      int(candidate in processed_annots)))"
      ],
      "metadata": {
        "colab": {
          "base_uri": "https://localhost:8080/"
        },
        "id": "HboT-rQujj6n",
        "outputId": "1b72dd77-101d-408c-ddb9-df51a63392d5"
      },
      "execution_count": 17,
      "outputs": [
        {
          "output_type": "stream",
          "name": "stderr",
          "text": [
            "100%|██████████| 3/3 [00:33<00:00, 11.04s/it]\n"
          ]
        }
      ]
    },
    {
      "cell_type": "code",
      "source": [
        "df = pd.DataFrame(candidates, columns=[\"group_name\", \"doc_name\", \"page_num\", \"candidate\", \"label\"])\n",
        "\n",
        "df[\"targets\"] = df \\\n",
        "  .progress_apply(lambda x: main_names[x[\"group_name\"]].get(x[\"doc_name\"]), axis=1) \\\n",
        "  .progress_apply(lambda x: preprocess_text(x) if x else None)\n",
        "\n",
        "df.head(5)"
      ],
      "metadata": {
        "colab": {
          "base_uri": "https://localhost:8080/",
          "height": 286
        },
        "id": "D8GVKL0xCWwp",
        "outputId": "bd51d781-f761-413e-bc59-274aab3ad033"
      },
      "execution_count": 18,
      "outputs": [
        {
          "output_type": "stream",
          "name": "stderr",
          "text": [
            "100%|██████████| 85721/85721 [00:01<00:00, 82325.34it/s]\n",
            "100%|██████████| 85721/85721 [00:10<00:00, 8557.09it/s] \n"
          ]
        },
        {
          "output_type": "execute_result",
          "data": {
            "text/plain": [
              "  group_name                                           doc_name  page_num  \\\n",
              "0       doc1  doc_1_Раздел ПД №2_Том 2_51-ППО.00027-21_СКЭ-2...         0   \n",
              "1       doc1  doc_1_Раздел ПД №2_Том 2_51-ППО.00027-21_СКЭ-2...         0   \n",
              "2       doc1  doc_1_Раздел ПД №2_Том 2_51-ППО.00027-21_СКЭ-2...         0   \n",
              "3       doc1  doc_1_Раздел ПД №2_Том 2_51-ППО.00027-21_СКЭ-2...         0   \n",
              "4       doc1  doc_1_Раздел ПД №2_Том 2_51-ППО.00027-21_СКЭ-2...         0   \n",
              "\n",
              "                                           candidate  label  \\\n",
              "0  от 10 июля 2014 г. заказчик - фку управление ф...      0   \n",
              "1  от 10 июля 2014 г. заказчик - фку управление ф...      0   \n",
              "2  10 июля 2014 г. заказчик - фку управление феде...      0   \n",
              "3  10 июля 2014 г. заказчик - фку управление феде...      0   \n",
              "4  10 июля 2014 г. заказчик - фку управление феде...      0   \n",
              "\n",
              "                                             targets  \n",
              "0  капитальный ремонт автомобильной дороги р-215 ...  \n",
              "1  капитальный ремонт автомобильной дороги р-215 ...  \n",
              "2  капитальный ремонт автомобильной дороги р-215 ...  \n",
              "3  капитальный ремонт автомобильной дороги р-215 ...  \n",
              "4  капитальный ремонт автомобильной дороги р-215 ...  "
            ],
            "text/html": [
              "\n",
              "  <div id=\"df-fa1d6fc7-960c-401c-ad9b-58f5c7094d9b\">\n",
              "    <div class=\"colab-df-container\">\n",
              "      <div>\n",
              "<style scoped>\n",
              "    .dataframe tbody tr th:only-of-type {\n",
              "        vertical-align: middle;\n",
              "    }\n",
              "\n",
              "    .dataframe tbody tr th {\n",
              "        vertical-align: top;\n",
              "    }\n",
              "\n",
              "    .dataframe thead th {\n",
              "        text-align: right;\n",
              "    }\n",
              "</style>\n",
              "<table border=\"1\" class=\"dataframe\">\n",
              "  <thead>\n",
              "    <tr style=\"text-align: right;\">\n",
              "      <th></th>\n",
              "      <th>group_name</th>\n",
              "      <th>doc_name</th>\n",
              "      <th>page_num</th>\n",
              "      <th>candidate</th>\n",
              "      <th>label</th>\n",
              "      <th>targets</th>\n",
              "    </tr>\n",
              "  </thead>\n",
              "  <tbody>\n",
              "    <tr>\n",
              "      <th>0</th>\n",
              "      <td>doc1</td>\n",
              "      <td>doc_1_Раздел ПД №2_Том 2_51-ППО.00027-21_СКЭ-2...</td>\n",
              "      <td>0</td>\n",
              "      <td>от 10 июля 2014 г. заказчик - фку управление ф...</td>\n",
              "      <td>0</td>\n",
              "      <td>капитальный ремонт автомобильной дороги р-215 ...</td>\n",
              "    </tr>\n",
              "    <tr>\n",
              "      <th>1</th>\n",
              "      <td>doc1</td>\n",
              "      <td>doc_1_Раздел ПД №2_Том 2_51-ППО.00027-21_СКЭ-2...</td>\n",
              "      <td>0</td>\n",
              "      <td>от 10 июля 2014 г. заказчик - фку управление ф...</td>\n",
              "      <td>0</td>\n",
              "      <td>капитальный ремонт автомобильной дороги р-215 ...</td>\n",
              "    </tr>\n",
              "    <tr>\n",
              "      <th>2</th>\n",
              "      <td>doc1</td>\n",
              "      <td>doc_1_Раздел ПД №2_Том 2_51-ППО.00027-21_СКЭ-2...</td>\n",
              "      <td>0</td>\n",
              "      <td>10 июля 2014 г. заказчик - фку управление феде...</td>\n",
              "      <td>0</td>\n",
              "      <td>капитальный ремонт автомобильной дороги р-215 ...</td>\n",
              "    </tr>\n",
              "    <tr>\n",
              "      <th>3</th>\n",
              "      <td>doc1</td>\n",
              "      <td>doc_1_Раздел ПД №2_Том 2_51-ППО.00027-21_СКЭ-2...</td>\n",
              "      <td>0</td>\n",
              "      <td>10 июля 2014 г. заказчик - фку управление феде...</td>\n",
              "      <td>0</td>\n",
              "      <td>капитальный ремонт автомобильной дороги р-215 ...</td>\n",
              "    </tr>\n",
              "    <tr>\n",
              "      <th>4</th>\n",
              "      <td>doc1</td>\n",
              "      <td>doc_1_Раздел ПД №2_Том 2_51-ППО.00027-21_СКЭ-2...</td>\n",
              "      <td>0</td>\n",
              "      <td>10 июля 2014 г. заказчик - фку управление феде...</td>\n",
              "      <td>0</td>\n",
              "      <td>капитальный ремонт автомобильной дороги р-215 ...</td>\n",
              "    </tr>\n",
              "  </tbody>\n",
              "</table>\n",
              "</div>\n",
              "      <button class=\"colab-df-convert\" onclick=\"convertToInteractive('df-fa1d6fc7-960c-401c-ad9b-58f5c7094d9b')\"\n",
              "              title=\"Convert this dataframe to an interactive table.\"\n",
              "              style=\"display:none;\">\n",
              "        \n",
              "  <svg xmlns=\"http://www.w3.org/2000/svg\" height=\"24px\"viewBox=\"0 0 24 24\"\n",
              "       width=\"24px\">\n",
              "    <path d=\"M0 0h24v24H0V0z\" fill=\"none\"/>\n",
              "    <path d=\"M18.56 5.44l.94 2.06.94-2.06 2.06-.94-2.06-.94-.94-2.06-.94 2.06-2.06.94zm-11 1L8.5 8.5l.94-2.06 2.06-.94-2.06-.94L8.5 2.5l-.94 2.06-2.06.94zm10 10l.94 2.06.94-2.06 2.06-.94-2.06-.94-.94-2.06-.94 2.06-2.06.94z\"/><path d=\"M17.41 7.96l-1.37-1.37c-.4-.4-.92-.59-1.43-.59-.52 0-1.04.2-1.43.59L10.3 9.45l-7.72 7.72c-.78.78-.78 2.05 0 2.83L4 21.41c.39.39.9.59 1.41.59.51 0 1.02-.2 1.41-.59l7.78-7.78 2.81-2.81c.8-.78.8-2.07 0-2.86zM5.41 20L4 18.59l7.72-7.72 1.47 1.35L5.41 20z\"/>\n",
              "  </svg>\n",
              "      </button>\n",
              "      \n",
              "  <style>\n",
              "    .colab-df-container {\n",
              "      display:flex;\n",
              "      flex-wrap:wrap;\n",
              "      gap: 12px;\n",
              "    }\n",
              "\n",
              "    .colab-df-convert {\n",
              "      background-color: #E8F0FE;\n",
              "      border: none;\n",
              "      border-radius: 50%;\n",
              "      cursor: pointer;\n",
              "      display: none;\n",
              "      fill: #1967D2;\n",
              "      height: 32px;\n",
              "      padding: 0 0 0 0;\n",
              "      width: 32px;\n",
              "    }\n",
              "\n",
              "    .colab-df-convert:hover {\n",
              "      background-color: #E2EBFA;\n",
              "      box-shadow: 0px 1px 2px rgba(60, 64, 67, 0.3), 0px 1px 3px 1px rgba(60, 64, 67, 0.15);\n",
              "      fill: #174EA6;\n",
              "    }\n",
              "\n",
              "    [theme=dark] .colab-df-convert {\n",
              "      background-color: #3B4455;\n",
              "      fill: #D2E3FC;\n",
              "    }\n",
              "\n",
              "    [theme=dark] .colab-df-convert:hover {\n",
              "      background-color: #434B5C;\n",
              "      box-shadow: 0px 1px 3px 1px rgba(0, 0, 0, 0.15);\n",
              "      filter: drop-shadow(0px 1px 2px rgba(0, 0, 0, 0.3));\n",
              "      fill: #FFFFFF;\n",
              "    }\n",
              "  </style>\n",
              "\n",
              "      <script>\n",
              "        const buttonEl =\n",
              "          document.querySelector('#df-fa1d6fc7-960c-401c-ad9b-58f5c7094d9b button.colab-df-convert');\n",
              "        buttonEl.style.display =\n",
              "          google.colab.kernel.accessAllowed ? 'block' : 'none';\n",
              "\n",
              "        async function convertToInteractive(key) {\n",
              "          const element = document.querySelector('#df-fa1d6fc7-960c-401c-ad9b-58f5c7094d9b');\n",
              "          const dataTable =\n",
              "            await google.colab.kernel.invokeFunction('convertToInteractive',\n",
              "                                                     [key], {});\n",
              "          if (!dataTable) return;\n",
              "\n",
              "          const docLinkHtml = 'Like what you see? Visit the ' +\n",
              "            '<a target=\"_blank\" href=https://colab.research.google.com/notebooks/data_table.ipynb>data table notebook</a>'\n",
              "            + ' to learn more about interactive tables.';\n",
              "          element.innerHTML = '';\n",
              "          dataTable['output_type'] = 'display_data';\n",
              "          await google.colab.output.renderOutput(dataTable, element);\n",
              "          const docLink = document.createElement('div');\n",
              "          docLink.innerHTML = docLinkHtml;\n",
              "          element.appendChild(docLink);\n",
              "        }\n",
              "      </script>\n",
              "    </div>\n",
              "  </div>\n",
              "  "
            ]
          },
          "metadata": {},
          "execution_count": 18
        }
      ]
    },
    {
      "cell_type": "code",
      "source": [
        "df.shape"
      ],
      "metadata": {
        "colab": {
          "base_uri": "https://localhost:8080/"
        },
        "id": "h2UCd_RKLJ5r",
        "outputId": "b707d765-d1a2-45dc-ab3c-94bb6f10786d"
      },
      "execution_count": 19,
      "outputs": [
        {
          "output_type": "execute_result",
          "data": {
            "text/plain": [
              "(85721, 6)"
            ]
          },
          "metadata": {},
          "execution_count": 19
        }
      ]
    },
    {
      "cell_type": "code",
      "source": [
        "df.groupby([\"group_name\"])[\"doc_name\"].nunique()"
      ],
      "metadata": {
        "colab": {
          "base_uri": "https://localhost:8080/"
        },
        "id": "97agO4zfEtAO",
        "outputId": "42efa3bd-613b-467e-f17e-1e5be2e19328"
      },
      "execution_count": 20,
      "outputs": [
        {
          "output_type": "execute_result",
          "data": {
            "text/plain": [
              "group_name\n",
              "doc1         13\n",
              "doc2         10\n",
              "ПД для ИИ     8\n",
              "Name: doc_name, dtype: int64"
            ]
          },
          "metadata": {},
          "execution_count": 20
        }
      ]
    },
    {
      "cell_type": "markdown",
      "source": [
        "# Generate features and sets for classifier"
      ],
      "metadata": {
        "id": "hEtwXanEBbc8"
      }
    },
    {
      "cell_type": "markdown",
      "source": [
        "## Split dataset"
      ],
      "metadata": {
        "id": "DZB5kqRSwekZ"
      }
    },
    {
      "cell_type": "code",
      "source": [
        "df[\"label\"].mean()"
      ],
      "metadata": {
        "colab": {
          "base_uri": "https://localhost:8080/"
        },
        "id": "RGjaFq6YIsg0",
        "outputId": "d842fd6e-79b1-49b7-ee5a-4a779f058017"
      },
      "execution_count": 21,
      "outputs": [
        {
          "output_type": "execute_result",
          "data": {
            "text/plain": [
              "0.0013532273305257754"
            ]
          },
          "metadata": {},
          "execution_count": 21
        }
      ]
    },
    {
      "cell_type": "code",
      "source": [
        "train = df[df.groupby([\"doc_name\"])[\"label\"].transform(\"max\") == 1] \\\n",
        "  .reset_index(drop=True)\n",
        "test = df[df.groupby([\"doc_name\"])[\"label\"].transform(\"max\") == 0] \\\n",
        "  .reset_index(drop=True)\n",
        "\n",
        "train.shape, test.shape"
      ],
      "metadata": {
        "id": "1fbts_HHAS_D",
        "colab": {
          "base_uri": "https://localhost:8080/"
        },
        "outputId": "90e924b1-481f-4a79-b01e-f0ba4fdd8128"
      },
      "execution_count": 22,
      "outputs": [
        {
          "output_type": "execute_result",
          "data": {
            "text/plain": [
              "((69737, 6), (15984, 6))"
            ]
          },
          "metadata": {},
          "execution_count": 22
        }
      ]
    },
    {
      "cell_type": "code",
      "source": [
        "train.groupby([\"group_name\"])[\"doc_name\"].nunique()"
      ],
      "metadata": {
        "colab": {
          "base_uri": "https://localhost:8080/"
        },
        "id": "UzR3s_XaiYSK",
        "outputId": "0c068b2f-2312-45ed-c40e-5cfd7f034a9e"
      },
      "execution_count": 23,
      "outputs": [
        {
          "output_type": "execute_result",
          "data": {
            "text/plain": [
              "group_name\n",
              "doc1         11\n",
              "doc2         10\n",
              "ПД для ИИ     4\n",
              "Name: doc_name, dtype: int64"
            ]
          },
          "metadata": {},
          "execution_count": 23
        }
      ]
    },
    {
      "cell_type": "code",
      "source": [
        "test.groupby([\"group_name\"])[\"doc_name\"].nunique()"
      ],
      "metadata": {
        "colab": {
          "base_uri": "https://localhost:8080/"
        },
        "id": "U0bht35siaQ6",
        "outputId": "a558f831-e24c-40e6-b479-c81cebfedf09"
      },
      "execution_count": 24,
      "outputs": [
        {
          "output_type": "execute_result",
          "data": {
            "text/plain": [
              "group_name\n",
              "doc1         2\n",
              "ПД для ИИ    4\n",
              "Name: doc_name, dtype: int64"
            ]
          },
          "metadata": {},
          "execution_count": 24
        }
      ]
    },
    {
      "cell_type": "code",
      "source": [
        "train_docs = train[train[\"group_name\"] != \"ПД для ИИ\"].groupby([\"group_name\"])[\"doc_name\"].apply(lambda x: x.drop_duplicates().sample(8)) \\\n",
        "  .reset_index(level=-1, drop=True) \\\n",
        "  .reset_index()"
      ],
      "metadata": {
        "id": "6a__iUn_G4WP"
      },
      "execution_count": 25,
      "outputs": []
    },
    {
      "cell_type": "code",
      "source": [
        "valid = train.merge(train_docs, on=[\"group_name\", \"doc_name\"], how=\"inner\")\n",
        "valid.shape"
      ],
      "metadata": {
        "colab": {
          "base_uri": "https://localhost:8080/"
        },
        "id": "XZFIgfwBG4Zs",
        "outputId": "45478cae-5a67-472f-e13b-593c2e368555"
      },
      "execution_count": 26,
      "outputs": [
        {
          "output_type": "execute_result",
          "data": {
            "text/plain": [
              "(35211, 6)"
            ]
          },
          "metadata": {},
          "execution_count": 26
        }
      ]
    },
    {
      "cell_type": "code",
      "source": [
        "train_docs[\"exclude\"] = 1\n",
        "train = train.merge(train_docs, on=[\"group_name\", \"doc_name\"], how=\"left\")\n",
        "train = train[train[\"exclude\"] != 1] \\\n",
        "  .reset_index(drop=True) \\\n",
        "  .drop(\"exclude\", axis=1)\n",
        "\n",
        "del train_docs\n",
        "\n",
        "train.shape"
      ],
      "metadata": {
        "colab": {
          "base_uri": "https://localhost:8080/"
        },
        "id": "9-3hgnRtH92G",
        "outputId": "b0ee1597-553c-4f32-cc61-ab9c592a0f5f"
      },
      "execution_count": 27,
      "outputs": [
        {
          "output_type": "execute_result",
          "data": {
            "text/plain": [
              "(34526, 6)"
            ]
          },
          "metadata": {},
          "execution_count": 27
        }
      ]
    },
    {
      "cell_type": "code",
      "source": [
        "assert valid[\"label\"].max() == 1"
      ],
      "metadata": {
        "id": "8JFwX334uhUg"
      },
      "execution_count": 28,
      "outputs": []
    },
    {
      "cell_type": "markdown",
      "source": [
        "## Add augmentations"
      ],
      "metadata": {
        "id": "7CAg0sQ2rhoz"
      }
    },
    {
      "cell_type": "code",
      "source": [
        "augmented = train.copy()\n",
        "\n",
        "def generate_random_token_deletions(text: str, num_dels: int = 5) -> str:\n",
        "  arr = text.split()\n",
        "  try:\n",
        "    for i in np.random.randint(low=0, high=len(arr)-1,\n",
        "                               size=(np.random.randint(1, min(num_dels, int(len(arr)//1.5))),)):\n",
        "      arr.pop(i)\n",
        "  except Exception as e:\n",
        "    pass\n",
        "  return \" \".join(arr)\n",
        "\n",
        "augmented[\"candidate\"] = augmented[\"candidate\"] \\\n",
        "  .progress_apply(generate_random_token_deletions)\n",
        "\n",
        "train = pd.concat([train, augmented], axis=0) \\\n",
        "  .reset_index(drop=True)"
      ],
      "metadata": {
        "colab": {
          "base_uri": "https://localhost:8080/"
        },
        "id": "cWUs_PDJprfx",
        "outputId": "5593f4af-a9f9-4957-abb6-84e08d87cae3"
      },
      "execution_count": 29,
      "outputs": [
        {
          "output_type": "stream",
          "name": "stderr",
          "text": [
            "100%|██████████| 34526/34526 [00:00<00:00, 35123.57it/s]\n"
          ]
        }
      ]
    },
    {
      "cell_type": "code",
      "source": [
        "augmented = train.copy()\n",
        "\n",
        "def generate_random_char_deletions(text: str, num_dels: int = 5) -> str:\n",
        "  try:\n",
        "    for i in np.random.randint(low=0, high=len(text)-1,\n",
        "                               size=(np.random.randint(1, min(num_dels, int(len(text)//1.5))),)):\n",
        "      text = text[0:i] + text[i+1:]\n",
        "  except Exception as e:\n",
        "    pass\n",
        "  return text\n",
        "\n",
        "augmented[\"candidate\"] = augmented[\"candidate\"] \\\n",
        "  .progress_apply(generate_random_char_deletions)\n",
        "\n",
        "train = pd.concat([train, augmented], axis=0) \\\n",
        "  .reset_index(drop=True)\n",
        "\n",
        "del augmented"
      ],
      "metadata": {
        "colab": {
          "base_uri": "https://localhost:8080/"
        },
        "id": "qj23Z2i5p6au",
        "outputId": "33a1e528-0f10-41b0-dd25-f76b4ee6dd96"
      },
      "execution_count": 30,
      "outputs": [
        {
          "output_type": "stream",
          "name": "stderr",
          "text": [
            "100%|██████████| 69052/69052 [00:02<00:00, 31725.11it/s]\n"
          ]
        }
      ]
    },
    {
      "cell_type": "code",
      "source": [
        "letters = ''.join(set(''.join(train[\"candidate\"])))\n",
        "print(letters)"
      ],
      "metadata": {
        "colab": {
          "base_uri": "https://localhost:8080/"
        },
        "id": "Ph6JB9Tkxop-",
        "outputId": "6c0ab8a4-e7a1-400d-becf-e4ed53e9f3cf"
      },
      "execution_count": 31,
      "outputs": [
        {
          "output_type": "stream",
          "name": "stdout",
          "text": [
            "pчиъюцaвпщ9e0к6оnыге+øu.жэs5dтд8@ь:-xg/мiах4vуowбрлфйс2зшёt r13ня7\n"
          ]
        }
      ]
    },
    {
      "cell_type": "code",
      "source": [
        "augmented = train.copy()\n",
        "\n",
        "def generate_random_misspellings(text: str, word_prob: float = .1) -> str:\n",
        "  try:\n",
        "    new_arr = []\n",
        "    for word in text.split():\n",
        "      outcome = random.random()\n",
        "      if outcome <= word_prob:\n",
        "          ix = random.choice(range(len(word)))\n",
        "          new_word = ''.join([word[w] if w != ix else random.choice(letters)\n",
        "                              for w in range(len(word))])\n",
        "          new_arr.append(new_word)\n",
        "      else:\n",
        "          new_arr.append(word)\n",
        "  except:\n",
        "    pass\n",
        "  return \" \".join(new_arr)\n",
        "\n",
        "\n",
        "augmented[\"candidate\"] = augmented[\"candidate\"] \\\n",
        "  .progress_apply(generate_random_char_deletions)\n",
        "\n",
        "train = pd.concat([train, augmented], axis=0) \\\n",
        "  .reset_index(drop=True)\n",
        "\n",
        "del augmented"
      ],
      "metadata": {
        "colab": {
          "base_uri": "https://localhost:8080/"
        },
        "id": "7-mGQHp9xSvo",
        "outputId": "1fe7121e-4041-42f8-e17d-822954f121fd"
      },
      "execution_count": 32,
      "outputs": [
        {
          "output_type": "stream",
          "name": "stderr",
          "text": [
            "100%|██████████| 138104/138104 [00:03<00:00, 41376.77it/s]\n"
          ]
        }
      ]
    },
    {
      "cell_type": "code",
      "source": [
        "train = train[train[\"candidate\"] != \"\"] \\\n",
        "  .drop_duplicates() \\\n",
        "  .reset_index(drop=True)\n",
        "\n",
        "valid = valid[valid[\"candidate\"] != \"\"] \\\n",
        "  .drop_duplicates() \\\n",
        "  .reset_index(drop=True)\n",
        "\n",
        "test = test[test[\"candidate\"] != \"\"] \\\n",
        "  .drop_duplicates() \\\n",
        "  .reset_index(drop=True)\n",
        "\n",
        "train.shape, valid.shape, test.shape"
      ],
      "metadata": {
        "id": "g_JOEQSotfOV",
        "colab": {
          "base_uri": "https://localhost:8080/"
        },
        "outputId": "a4d79373-ab04-4153-8282-a2c9ccdb0429"
      },
      "execution_count": 33,
      "outputs": [
        {
          "output_type": "execute_result",
          "data": {
            "text/plain": [
              "((275776, 6), (34823, 6), (15956, 6))"
            ]
          },
          "metadata": {},
          "execution_count": 33
        }
      ]
    },
    {
      "cell_type": "code",
      "source": [
        "train[\"label\"].mean(), valid[\"label\"].mean(), test[\"label\"].mean()"
      ],
      "metadata": {
        "colab": {
          "base_uri": "https://localhost:8080/"
        },
        "id": "zqzXROGLuTIV",
        "outputId": "1888809c-9648-4a90-c1c6-a4cca3865dc7"
      },
      "execution_count": 34,
      "outputs": [
        {
          "output_type": "execute_result",
          "data": {
            "text/plain": [
              "(0.0008666453933627292, 0.0018665824311518248, 0.0)"
            ]
          },
          "metadata": {},
          "execution_count": 34
        }
      ]
    },
    {
      "cell_type": "code",
      "source": [
        "pred = pd.concat([train[train[\"candidate\"] == train[\"targets\"]],\n",
        "                  valid[valid[\"candidate\"] == valid[\"targets\"]]], axis=0) \\\n",
        "  .reset_index(drop=True)\n",
        "\n",
        "train = train[train[\"candidate\"] != train[\"targets\"]].reset_index(drop=True)\n",
        "valid = valid[valid[\"candidate\"] != valid[\"targets\"]].reset_index(drop=True)\n",
        "\n",
        "train[\"label\"].mean(), valid[\"label\"].mean(), test[\"label\"].mean()"
      ],
      "metadata": {
        "colab": {
          "base_uri": "https://localhost:8080/"
        },
        "id": "gal_5DWApZL-",
        "outputId": "608c3ab0-3038-47d5-e0c6-a9268fd881fa"
      },
      "execution_count": 35,
      "outputs": [
        {
          "output_type": "execute_result",
          "data": {
            "text/plain": [
              "(0.0007906055748572921, 0.0003742622714840939, 0.0)"
            ]
          },
          "metadata": {},
          "execution_count": 35
        }
      ]
    },
    {
      "cell_type": "code",
      "source": [
        "train = pd.concat([train[train[\"label\"] == 1],\n",
        "                   train[train[\"label\"] == 0].groupby([\"doc_name\"]) \\\n",
        "                                             .apply(lambda x: x.sample(frac=.5, random_state=42))], axis=0) \\\n",
        "  .reset_index(drop=True)"
      ],
      "metadata": {
        "id": "8Ra3LJ3OAkdY"
      },
      "execution_count": 36,
      "outputs": []
    },
    {
      "cell_type": "code",
      "source": [
        "assert (train[\"targets\"].apply(len) == 0).sum() == 0\n",
        "assert (valid[\"targets\"].apply(len) == 0).sum() == 0\n",
        "assert (test[\"targets\"].apply(len) == 0).sum() == 0"
      ],
      "metadata": {
        "id": "VmoHX-Y6wxOq"
      },
      "execution_count": 37,
      "outputs": []
    },
    {
      "cell_type": "markdown",
      "source": [
        "## Generate features"
      ],
      "metadata": {
        "id": "4Ud6i98uwWZD"
      }
    },
    {
      "cell_type": "code",
      "source": [
        "digit_re = re.compile(r\"[\\d]+\")\n",
        "\n",
        "\n",
        "def matched_numbers(external_name: str, internal_name: str) -> float:\n",
        "    external_numbers = set(digit_re.findall(external_name))\n",
        "    internal_numbers = set(digit_re.findall(internal_name))\n",
        "    union = external_numbers.union(internal_numbers)\n",
        "    intersection = external_numbers.intersection(internal_numbers)\n",
        "    if len(external_numbers) == 0 and len(internal_numbers) == 0:\n",
        "        return 1.\n",
        "    else:\n",
        "        return len(intersection)/ len(union)\n",
        "\n",
        "\n",
        "def generate_features(df: pd.DataFrame) -> pd.DataFrame:\n",
        "    print(\"calculate editions\")\n",
        "    df[\"qratio\"] = df \\\n",
        "      .apply(lambda x: rapidfuzz.fuzz.QRatio(x[\"candidate\"],\n",
        "                                             x[\"targets\"]), axis=1) \\\n",
        "      .astype(float)\n",
        "    df[\"partial_token_set_ratio\"] = df \\\n",
        "      .apply(lambda x: rapidfuzz.fuzz.partial_token_set_ratio(x[\"candidate\"],\n",
        "                                                              x[\"targets\"]), axis=1) \\\n",
        "      .astype(float)\n",
        "    df[\"token_set_ratio\"] = df.apply(lambda x: rapidfuzz.fuzz.token_set_ratio(x[\"candidate\"],\n",
        "                                                                              x[\"targets\"]), axis=1) \\\n",
        "      .astype(float)\n",
        "\n",
        "    print(\"calculate string sims\")\n",
        "    df[\"jaro_winkler\"] = df \\\n",
        "      .apply(lambda x: textdistance.jaro_winkler(x[\"candidate\"],\n",
        "                                                 x[\"targets\"]), axis=1) \\\n",
        "      .astype(float)\n",
        "    df[\"levenshtein\"] = df \\\n",
        "      .apply(lambda x: textdistance.levenshtein(x[\"candidate\"],\n",
        "                                                x[\"targets\"]) / len(x[\"candidate\"]), axis=1) \\\n",
        "      .astype(float)\n",
        "    df[\"damerau_levenshtein\"] = df \\\n",
        "      .apply(lambda x: textdistance.damerau_levenshtein(x[\"candidate\"],\n",
        "                                                        x[\"targets\"]) / len(x[\"candidate\"]), axis=1) \\\n",
        "      .astype(float)\n",
        "    df[\"cosine\"] = df \\\n",
        "      .apply(lambda x: textdistance.cosine(x[\"candidate\"],\n",
        "                                           x[\"targets\"]), axis=1) \\\n",
        "      .astype(float)\n",
        "\n",
        "    print(\"calculate union chars\")\n",
        "    df[\"chars_in_common\"] = df \\\n",
        "      .apply(lambda x: len(set(x[\"candidate\"]) & set(x[\"targets\"])) / len(set(x[\"candidate\"] + x[\"targets\"])), axis=1) \\\n",
        "      .astype(float)\n",
        "    df[\"matching_numbers\"] = df \\\n",
        "      .apply(lambda x: matched_numbers(x[\"candidate\"], x[\"targets\"]), axis=1) \\\n",
        "      .astype(float)\n",
        "    df[\"words_in_common\"] = df \\\n",
        "      .apply(lambda x: len(set(x[\"candidate\"].split()) & set(x[\"targets\"].split())) / len(set(x[\"candidate\"].split()+x[\"targets\"].split())), axis=1) \\\n",
        "      .astype(float)\n",
        "    df[\"target_in_candidate\"] = df \\\n",
        "      .apply(lambda x: int(x[\"targets\"] in x[\"candidate\"]), axis=1) \\\n",
        "      .astype(int)\n",
        "    df[\"candidate_in_targets\"] = df \\\n",
        "      .apply(lambda x: int(x[\"candidate\"] in x[\"targets\"]), axis=1) \\\n",
        "      .astype(int)\n",
        "\n",
        "    print(\"calculate candidates characteristics\")\n",
        "    df[\"candidate_contains_special_chars\"] = df[\"candidate\"] \\\n",
        "      .str.contains(\"[^\\w\\s]\", regex=True) \\\n",
        "      .astype(int)\n",
        "\n",
        "    print(\"calculate targets characteristics\")\n",
        "    df[\"target_contains_special_chars\"] = df[\"targets\"] \\\n",
        "      .str.contains(\"[^\\w\\s]\", regex=True) \\\n",
        "      .astype(int)\n",
        "    return df"
      ],
      "metadata": {
        "id": "GkYHjADiF1B_"
      },
      "execution_count": 38,
      "outputs": []
    },
    {
      "cell_type": "code",
      "source": [
        "%%time\n",
        "train = generate_features(train.reset_index(drop=True))\n",
        "valid = generate_features(valid.reset_index(drop=True))\n",
        "test = generate_features(test.reset_index(drop=True))"
      ],
      "metadata": {
        "colab": {
          "base_uri": "https://localhost:8080/"
        },
        "id": "AW2xh9R_FKAP",
        "outputId": "9e4d4e2c-f681-473f-943b-7a10d9dda992"
      },
      "execution_count": 39,
      "outputs": [
        {
          "output_type": "stream",
          "name": "stdout",
          "text": [
            "calculate editions\n",
            "calculate string sims\n",
            "calculate union chars\n",
            "calculate candidates characteristics\n",
            "calculate targets characteristics\n",
            "calculate editions\n",
            "calculate string sims\n",
            "calculate union chars\n",
            "calculate candidates characteristics\n",
            "calculate targets characteristics\n",
            "calculate editions\n",
            "calculate string sims\n",
            "calculate union chars\n",
            "calculate candidates characteristics\n",
            "calculate targets characteristics\n",
            "CPU times: user 1min 8s, sys: 300 ms, total: 1min 8s\n",
            "Wall time: 1min 18s\n"
          ]
        }
      ]
    },
    {
      "cell_type": "code",
      "source": [
        "train.shape, valid.shape, test.shape"
      ],
      "metadata": {
        "colab": {
          "base_uri": "https://localhost:8080/"
        },
        "id": "Or-yDTa2FSrr",
        "outputId": "ef681eee-fc6b-4f73-a889-4707229059af"
      },
      "execution_count": 40,
      "outputs": [
        {
          "output_type": "execute_result",
          "data": {
            "text/plain": [
              "((137977, 20), (34735, 20), (15956, 20))"
            ]
          },
          "metadata": {},
          "execution_count": 40
        }
      ]
    },
    {
      "cell_type": "code",
      "source": [
        "train[\"label\"].mean(), valid[\"label\"].mean(), test[\"label\"].mean()"
      ],
      "metadata": {
        "colab": {
          "base_uri": "https://localhost:8080/"
        },
        "id": "QtgpaLYTJ8An",
        "outputId": "17fb40fd-8c09-48a2-f80b-36206d952d52"
      },
      "execution_count": 41,
      "outputs": [
        {
          "output_type": "execute_result",
          "data": {
            "text/plain": [
              "(0.001579973473839843, 0.0003742622714840939, 0.0)"
            ]
          },
          "metadata": {},
          "execution_count": 41
        }
      ]
    },
    {
      "cell_type": "code",
      "source": [
        "dropcols = [\"group_name\", \"doc_name\", \"page_num\", \"candidate\", \"label\", \"targets\"]\n",
        "cat_cols = (train.drop(dropcols, axis=1).dtypes == int).astype(int) \\\n",
        "  .where(lambda x: x == 1) \\\n",
        "  .dropna() \\\n",
        "  .index.tolist()\n",
        "print(cat_cols)"
      ],
      "metadata": {
        "id": "pQ0dZHL-CO_i",
        "colab": {
          "base_uri": "https://localhost:8080/"
        },
        "outputId": "5c038a73-f4e4-4652-870a-e956b6026311"
      },
      "execution_count": 42,
      "outputs": [
        {
          "output_type": "stream",
          "name": "stdout",
          "text": [
            "['target_in_candidate', 'candidate_in_targets', 'candidate_contains_special_chars', 'target_contains_special_chars']\n"
          ]
        }
      ]
    },
    {
      "cell_type": "code",
      "source": [
        "train.sample(5).T"
      ],
      "metadata": {
        "colab": {
          "base_uri": "https://localhost:8080/",
          "height": 807
        },
        "id": "bkxNivz6lXFA",
        "outputId": "7dc9e5ee-af66-41a5-b3b8-b838f0c21df7"
      },
      "execution_count": 43,
      "outputs": [
        {
          "output_type": "execute_result",
          "data": {
            "text/plain": [
              "                                                                             91342   \\\n",
              "group_name                                                                ПД для ИИ   \n",
              "doc_name                          Отчет ИИ №3_Книга №3_(ДПТПиИТ-2020-834-ИЭИ3)_Т...   \n",
              "page_num                                                                         60   \n",
              "candidate                         1 0 001 1 из табл. 8.1.8.10 видно что исследов...   \n",
              "label                                                                             0   \n",
              "targets                           автомобильная дорога м - 1 беларусь - от москв...   \n",
              "qratio                                                                    59.310345   \n",
              "partial_token_set_ratio                                                       100.0   \n",
              "token_set_ratio                                                           76.857749   \n",
              "jaro_winkler                                                               0.749251   \n",
              "levenshtein                                                                0.572565   \n",
              "damerau_levenshtein                                                        0.572565   \n",
              "cosine                                                                     0.867029   \n",
              "chars_in_common                                                            0.906977   \n",
              "matching_numbers                                                           0.235294   \n",
              "words_in_common                                                            0.329114   \n",
              "target_in_candidate                                                               0   \n",
              "candidate_in_targets                                                              0   \n",
              "candidate_contains_special_chars                                                  1   \n",
              "target_contains_special_chars                                                     1   \n",
              "\n",
              "                                                                             112460  \\\n",
              "group_name                                                                ПД для ИИ   \n",
              "doc_name                          Отчет ИИ №3_Книга №3_(ДПТПиИТ-2020-834-ИЭИ3)_Т...   \n",
              "page_num                                                                          2   \n",
              "candidate                         . подъездная автомобильная дорога от 1-го успе...   \n",
              "label                                                                             0   \n",
              "targets                           автомобильная дорога м - 1 беларусь - от москв...   \n",
              "qratio                                                                    77.067669   \n",
              "partial_token_set_ratio                                                       100.0   \n",
              "token_set_ratio                                                           99.305556   \n",
              "jaro_winkler                                                               0.789954   \n",
              "levenshtein                                                                0.442029   \n",
              "damerau_levenshtein                                                        0.442029   \n",
              "cosine                                                                     0.923585   \n",
              "chars_in_common                                                             0.97619   \n",
              "matching_numbers                                                                1.0   \n",
              "words_in_common                                                            0.666667   \n",
              "target_in_candidate                                                               0   \n",
              "candidate_in_targets                                                              0   \n",
              "candidate_contains_special_chars                                                  1   \n",
              "target_contains_special_chars                                                     1   \n",
              "\n",
              "                                                                             37705   \\\n",
              "group_name                                                                     doc1   \n",
              "doc_name                          doc_1_Раздел ПД №10_Том 10.2.1_51-.00027-21_СК...   \n",
              "page_num                                                                        140   \n",
              "candidate                         автомобилной дороги р-215 астрахань - кочубей ...   \n",
              "label                                                                             0   \n",
              "targets                           капитальный ремонт автомобильной дороги р-215 ...   \n",
              "qratio                                                                    77.099237   \n",
              "partial_token_set_ratio                                                       100.0   \n",
              "token_set_ratio                                                            92.81768   \n",
              "jaro_winkler                                                                0.71406   \n",
              "levenshtein                                                                0.594059   \n",
              "damerau_levenshtein                                                        0.594059   \n",
              "cosine                                                                     0.792041   \n",
              "chars_in_common                                                            0.861111   \n",
              "matching_numbers                                                                0.2   \n",
              "words_in_common                                                            0.636364   \n",
              "target_in_candidate                                                               0   \n",
              "candidate_in_targets                                                              0   \n",
              "candidate_contains_special_chars                                                  1   \n",
              "target_contains_special_chars                                                     1   \n",
              "\n",
              "                                                                             129338  \\\n",
              "group_name                                                                ПД для ИИ   \n",
              "doc_name                          Отчет ИИ №3_Книга №3_(ДПТПиИТ-2020-834-ИЭИ3)_Т...   \n",
              "page_num                                                                         13   \n",
              "candidate                         объекту автомобильная дорога 1 беларусь - от м...   \n",
              "label                                                                             0   \n",
              "targets                           автомобильная дорога м - 1 беларусь - от москв...   \n",
              "qratio                                                                    54.749745   \n",
              "partial_token_set_ratio                                                       100.0   \n",
              "token_set_ratio                                                           79.417879   \n",
              "jaro_winkler                                                                0.73868   \n",
              "levenshtein                                                                0.704497   \n",
              "damerau_levenshtein                                                        0.704497   \n",
              "cosine                                                                     0.846656   \n",
              "chars_in_common                                                            0.837209   \n",
              "matching_numbers                                                                0.3   \n",
              "words_in_common                                                            0.382353   \n",
              "target_in_candidate                                                               0   \n",
              "candidate_in_targets                                                              0   \n",
              "candidate_contains_special_chars                                                  1   \n",
              "target_contains_special_chars                                                     1   \n",
              "\n",
              "                                                                             12783   \n",
              "group_name                                                                ПД для ИИ  \n",
              "doc_name                                 3864 ИИ 4 К. Изм. 2.02608-19_ГГЭ-07898.pdf  \n",
              "page_num                                                                          0  \n",
              "candidate                         от москвы через рязань пензу самару уфу до чел...  \n",
              "label                                                                             0  \n",
              "targets                           строительство и реконструкция автомобильной до...  \n",
              "qratio                                                                    74.387528  \n",
              "partial_token_set_ratio                                                       100.0  \n",
              "token_set_ratio                                                           88.163265  \n",
              "jaro_winkler                                                                0.71237  \n",
              "levenshtein                                                                0.688623  \n",
              "damerau_levenshtein                                                        0.688623  \n",
              "cosine                                                                     0.769544  \n",
              "chars_in_common                                                              0.9375  \n",
              "matching_numbers                                                                1.0  \n",
              "words_in_common                                                                 0.6  \n",
              "target_in_candidate                                                               0  \n",
              "candidate_in_targets                                                              0  \n",
              "candidate_contains_special_chars                                                  1  \n",
              "target_contains_special_chars                                                     1  "
            ],
            "text/html": [
              "\n",
              "  <div id=\"df-8d22244c-e454-4907-9eac-2a319c9e5d92\">\n",
              "    <div class=\"colab-df-container\">\n",
              "      <div>\n",
              "<style scoped>\n",
              "    .dataframe tbody tr th:only-of-type {\n",
              "        vertical-align: middle;\n",
              "    }\n",
              "\n",
              "    .dataframe tbody tr th {\n",
              "        vertical-align: top;\n",
              "    }\n",
              "\n",
              "    .dataframe thead th {\n",
              "        text-align: right;\n",
              "    }\n",
              "</style>\n",
              "<table border=\"1\" class=\"dataframe\">\n",
              "  <thead>\n",
              "    <tr style=\"text-align: right;\">\n",
              "      <th></th>\n",
              "      <th>91342</th>\n",
              "      <th>112460</th>\n",
              "      <th>37705</th>\n",
              "      <th>129338</th>\n",
              "      <th>12783</th>\n",
              "    </tr>\n",
              "  </thead>\n",
              "  <tbody>\n",
              "    <tr>\n",
              "      <th>group_name</th>\n",
              "      <td>ПД для ИИ</td>\n",
              "      <td>ПД для ИИ</td>\n",
              "      <td>doc1</td>\n",
              "      <td>ПД для ИИ</td>\n",
              "      <td>ПД для ИИ</td>\n",
              "    </tr>\n",
              "    <tr>\n",
              "      <th>doc_name</th>\n",
              "      <td>Отчет ИИ №3_Книга №3_(ДПТПиИТ-2020-834-ИЭИ3)_Т...</td>\n",
              "      <td>Отчет ИИ №3_Книга №3_(ДПТПиИТ-2020-834-ИЭИ3)_Т...</td>\n",
              "      <td>doc_1_Раздел ПД №10_Том 10.2.1_51-.00027-21_СК...</td>\n",
              "      <td>Отчет ИИ №3_Книга №3_(ДПТПиИТ-2020-834-ИЭИ3)_Т...</td>\n",
              "      <td>3864 ИИ 4 К. Изм. 2.02608-19_ГГЭ-07898.pdf</td>\n",
              "    </tr>\n",
              "    <tr>\n",
              "      <th>page_num</th>\n",
              "      <td>60</td>\n",
              "      <td>2</td>\n",
              "      <td>140</td>\n",
              "      <td>13</td>\n",
              "      <td>0</td>\n",
              "    </tr>\n",
              "    <tr>\n",
              "      <th>candidate</th>\n",
              "      <td>1 0 001 1 из табл. 8.1.8.10 видно что исследов...</td>\n",
              "      <td>. подъездная автомобильная дорога от 1-го успе...</td>\n",
              "      <td>автомобилной дороги р-215 астрахань - кочубей ...</td>\n",
              "      <td>объекту автомобильная дорога 1 беларусь - от м...</td>\n",
              "      <td>от москвы через рязань пензу самару уфу до чел...</td>\n",
              "    </tr>\n",
              "    <tr>\n",
              "      <th>label</th>\n",
              "      <td>0</td>\n",
              "      <td>0</td>\n",
              "      <td>0</td>\n",
              "      <td>0</td>\n",
              "      <td>0</td>\n",
              "    </tr>\n",
              "    <tr>\n",
              "      <th>targets</th>\n",
              "      <td>автомобильная дорога м - 1 беларусь - от москв...</td>\n",
              "      <td>автомобильная дорога м - 1 беларусь - от москв...</td>\n",
              "      <td>капитальный ремонт автомобильной дороги р-215 ...</td>\n",
              "      <td>автомобильная дорога м - 1 беларусь - от москв...</td>\n",
              "      <td>строительство и реконструкция автомобильной до...</td>\n",
              "    </tr>\n",
              "    <tr>\n",
              "      <th>qratio</th>\n",
              "      <td>59.310345</td>\n",
              "      <td>77.067669</td>\n",
              "      <td>77.099237</td>\n",
              "      <td>54.749745</td>\n",
              "      <td>74.387528</td>\n",
              "    </tr>\n",
              "    <tr>\n",
              "      <th>partial_token_set_ratio</th>\n",
              "      <td>100.0</td>\n",
              "      <td>100.0</td>\n",
              "      <td>100.0</td>\n",
              "      <td>100.0</td>\n",
              "      <td>100.0</td>\n",
              "    </tr>\n",
              "    <tr>\n",
              "      <th>token_set_ratio</th>\n",
              "      <td>76.857749</td>\n",
              "      <td>99.305556</td>\n",
              "      <td>92.81768</td>\n",
              "      <td>79.417879</td>\n",
              "      <td>88.163265</td>\n",
              "    </tr>\n",
              "    <tr>\n",
              "      <th>jaro_winkler</th>\n",
              "      <td>0.749251</td>\n",
              "      <td>0.789954</td>\n",
              "      <td>0.71406</td>\n",
              "      <td>0.73868</td>\n",
              "      <td>0.71237</td>\n",
              "    </tr>\n",
              "    <tr>\n",
              "      <th>levenshtein</th>\n",
              "      <td>0.572565</td>\n",
              "      <td>0.442029</td>\n",
              "      <td>0.594059</td>\n",
              "      <td>0.704497</td>\n",
              "      <td>0.688623</td>\n",
              "    </tr>\n",
              "    <tr>\n",
              "      <th>damerau_levenshtein</th>\n",
              "      <td>0.572565</td>\n",
              "      <td>0.442029</td>\n",
              "      <td>0.594059</td>\n",
              "      <td>0.704497</td>\n",
              "      <td>0.688623</td>\n",
              "    </tr>\n",
              "    <tr>\n",
              "      <th>cosine</th>\n",
              "      <td>0.867029</td>\n",
              "      <td>0.923585</td>\n",
              "      <td>0.792041</td>\n",
              "      <td>0.846656</td>\n",
              "      <td>0.769544</td>\n",
              "    </tr>\n",
              "    <tr>\n",
              "      <th>chars_in_common</th>\n",
              "      <td>0.906977</td>\n",
              "      <td>0.97619</td>\n",
              "      <td>0.861111</td>\n",
              "      <td>0.837209</td>\n",
              "      <td>0.9375</td>\n",
              "    </tr>\n",
              "    <tr>\n",
              "      <th>matching_numbers</th>\n",
              "      <td>0.235294</td>\n",
              "      <td>1.0</td>\n",
              "      <td>0.2</td>\n",
              "      <td>0.3</td>\n",
              "      <td>1.0</td>\n",
              "    </tr>\n",
              "    <tr>\n",
              "      <th>words_in_common</th>\n",
              "      <td>0.329114</td>\n",
              "      <td>0.666667</td>\n",
              "      <td>0.636364</td>\n",
              "      <td>0.382353</td>\n",
              "      <td>0.6</td>\n",
              "    </tr>\n",
              "    <tr>\n",
              "      <th>target_in_candidate</th>\n",
              "      <td>0</td>\n",
              "      <td>0</td>\n",
              "      <td>0</td>\n",
              "      <td>0</td>\n",
              "      <td>0</td>\n",
              "    </tr>\n",
              "    <tr>\n",
              "      <th>candidate_in_targets</th>\n",
              "      <td>0</td>\n",
              "      <td>0</td>\n",
              "      <td>0</td>\n",
              "      <td>0</td>\n",
              "      <td>0</td>\n",
              "    </tr>\n",
              "    <tr>\n",
              "      <th>candidate_contains_special_chars</th>\n",
              "      <td>1</td>\n",
              "      <td>1</td>\n",
              "      <td>1</td>\n",
              "      <td>1</td>\n",
              "      <td>1</td>\n",
              "    </tr>\n",
              "    <tr>\n",
              "      <th>target_contains_special_chars</th>\n",
              "      <td>1</td>\n",
              "      <td>1</td>\n",
              "      <td>1</td>\n",
              "      <td>1</td>\n",
              "      <td>1</td>\n",
              "    </tr>\n",
              "  </tbody>\n",
              "</table>\n",
              "</div>\n",
              "      <button class=\"colab-df-convert\" onclick=\"convertToInteractive('df-8d22244c-e454-4907-9eac-2a319c9e5d92')\"\n",
              "              title=\"Convert this dataframe to an interactive table.\"\n",
              "              style=\"display:none;\">\n",
              "        \n",
              "  <svg xmlns=\"http://www.w3.org/2000/svg\" height=\"24px\"viewBox=\"0 0 24 24\"\n",
              "       width=\"24px\">\n",
              "    <path d=\"M0 0h24v24H0V0z\" fill=\"none\"/>\n",
              "    <path d=\"M18.56 5.44l.94 2.06.94-2.06 2.06-.94-2.06-.94-.94-2.06-.94 2.06-2.06.94zm-11 1L8.5 8.5l.94-2.06 2.06-.94-2.06-.94L8.5 2.5l-.94 2.06-2.06.94zm10 10l.94 2.06.94-2.06 2.06-.94-2.06-.94-.94-2.06-.94 2.06-2.06.94z\"/><path d=\"M17.41 7.96l-1.37-1.37c-.4-.4-.92-.59-1.43-.59-.52 0-1.04.2-1.43.59L10.3 9.45l-7.72 7.72c-.78.78-.78 2.05 0 2.83L4 21.41c.39.39.9.59 1.41.59.51 0 1.02-.2 1.41-.59l7.78-7.78 2.81-2.81c.8-.78.8-2.07 0-2.86zM5.41 20L4 18.59l7.72-7.72 1.47 1.35L5.41 20z\"/>\n",
              "  </svg>\n",
              "      </button>\n",
              "      \n",
              "  <style>\n",
              "    .colab-df-container {\n",
              "      display:flex;\n",
              "      flex-wrap:wrap;\n",
              "      gap: 12px;\n",
              "    }\n",
              "\n",
              "    .colab-df-convert {\n",
              "      background-color: #E8F0FE;\n",
              "      border: none;\n",
              "      border-radius: 50%;\n",
              "      cursor: pointer;\n",
              "      display: none;\n",
              "      fill: #1967D2;\n",
              "      height: 32px;\n",
              "      padding: 0 0 0 0;\n",
              "      width: 32px;\n",
              "    }\n",
              "\n",
              "    .colab-df-convert:hover {\n",
              "      background-color: #E2EBFA;\n",
              "      box-shadow: 0px 1px 2px rgba(60, 64, 67, 0.3), 0px 1px 3px 1px rgba(60, 64, 67, 0.15);\n",
              "      fill: #174EA6;\n",
              "    }\n",
              "\n",
              "    [theme=dark] .colab-df-convert {\n",
              "      background-color: #3B4455;\n",
              "      fill: #D2E3FC;\n",
              "    }\n",
              "\n",
              "    [theme=dark] .colab-df-convert:hover {\n",
              "      background-color: #434B5C;\n",
              "      box-shadow: 0px 1px 3px 1px rgba(0, 0, 0, 0.15);\n",
              "      filter: drop-shadow(0px 1px 2px rgba(0, 0, 0, 0.3));\n",
              "      fill: #FFFFFF;\n",
              "    }\n",
              "  </style>\n",
              "\n",
              "      <script>\n",
              "        const buttonEl =\n",
              "          document.querySelector('#df-8d22244c-e454-4907-9eac-2a319c9e5d92 button.colab-df-convert');\n",
              "        buttonEl.style.display =\n",
              "          google.colab.kernel.accessAllowed ? 'block' : 'none';\n",
              "\n",
              "        async function convertToInteractive(key) {\n",
              "          const element = document.querySelector('#df-8d22244c-e454-4907-9eac-2a319c9e5d92');\n",
              "          const dataTable =\n",
              "            await google.colab.kernel.invokeFunction('convertToInteractive',\n",
              "                                                     [key], {});\n",
              "          if (!dataTable) return;\n",
              "\n",
              "          const docLinkHtml = 'Like what you see? Visit the ' +\n",
              "            '<a target=\"_blank\" href=https://colab.research.google.com/notebooks/data_table.ipynb>data table notebook</a>'\n",
              "            + ' to learn more about interactive tables.';\n",
              "          element.innerHTML = '';\n",
              "          dataTable['output_type'] = 'display_data';\n",
              "          await google.colab.output.renderOutput(dataTable, element);\n",
              "          const docLink = document.createElement('div');\n",
              "          docLink.innerHTML = docLinkHtml;\n",
              "          element.appendChild(docLink);\n",
              "        }\n",
              "      </script>\n",
              "    </div>\n",
              "  </div>\n",
              "  "
            ]
          },
          "metadata": {},
          "execution_count": 43
        }
      ]
    },
    {
      "cell_type": "markdown",
      "source": [
        "## Parameters selection"
      ],
      "metadata": {
        "id": "LlE4RyAx9_qB"
      }
    },
    {
      "cell_type": "code",
      "source": [
        "%%time\n",
        "\n",
        "params = {\n",
        "    \"max_depth\": [5, 8, 10],\n",
        "    \"learning_rate\": [0.05, 0.1, 0.5],\n",
        "    \"n_estimators\": np.arange(50, 500, 50),\n",
        "    \"l2_leaf_reg\": np.arange(1.0, 5.0, 0.5),\n",
        "    \"min_child_samples\": [4, 8, 16]\n",
        "}\n",
        "\n",
        "class_weight = np.sqrt((train[\"label\"] == 0).sum()/(train[\"label\"] == 1).sum())\n",
        "\n",
        "cv = StratifiedShuffleSplit(n_splits=3, random_state=42)\n",
        "clf = CatBoostClassifier(random_seed=42,\n",
        "                         verbose=0,\n",
        "                         cat_features=cat_cols,\n",
        "                         scale_pos_weight=class_weight)\n",
        "search = RandomizedSearchCV(estimator=clf,\n",
        "                            n_iter=10,\n",
        "                            param_distributions=params,\n",
        "                            cv=cv,\n",
        "                            scoring=\"f1_macro\")\n",
        "search.fit(train.drop(dropcols, axis=1), train[\"label\"], verbose=0)\n",
        "\n",
        "print(\" Results from Random Search \" )\n",
        "print(\"\\n The best estimator across searched params:\\n\", search.best_estimator_)\n",
        "print(\"\\n The best score across searched params:\\n\", search.best_score_)\n",
        "print(\"\\n The best parameters across searched params:\\n\", search.best_params_)"
      ],
      "metadata": {
        "colab": {
          "base_uri": "https://localhost:8080/"
        },
        "id": "T0EipYx83btu",
        "outputId": "7dbe0ff5-b5c8-4a03-af70-dc6bab102eeb"
      },
      "execution_count": 45,
      "outputs": [
        {
          "output_type": "stream",
          "name": "stdout",
          "text": [
            " Results from Random Search \n",
            "\n",
            " The best estimator across searched params:\n",
            " <catboost.core.CatBoostClassifier object at 0x7fce894320e0>\n",
            "\n",
            " The best score across searched params:\n",
            " 0.7514847499353975\n",
            "\n",
            " The best parameters across searched params:\n",
            " {'n_estimators': 250, 'min_child_samples': 4, 'max_depth': 10, 'learning_rate': 0.05, 'l2_leaf_reg': 3.5}\n",
            "CPU times: user 7min 37s, sys: 13.6 s, total: 7min 50s\n",
            "Wall time: 6min 3s\n"
          ]
        }
      ]
    },
    {
      "cell_type": "markdown",
      "source": [
        "## Model training"
      ],
      "metadata": {
        "id": "kPsNXYku-CWm"
      }
    },
    {
      "cell_type": "code",
      "source": [
        "model = CatBoostClassifier(random_seed=42,\n",
        "                           verbose=1,\n",
        "                           cat_features=cat_cols,\n",
        "                           **search.best_params_)\n",
        "model.fit(train.drop(dropcols, axis=1),\n",
        "          train[\"label\"])"
      ],
      "metadata": {
        "id": "CBdAFbdQ3buo",
        "colab": {
          "base_uri": "https://localhost:8080/"
        },
        "outputId": "9554923a-1576-4e8b-d7bf-087486776e65"
      },
      "execution_count": 140,
      "outputs": [
        {
          "output_type": "stream",
          "name": "stdout",
          "text": [
            "0:\tlearn: 0.5212072\ttotal: 56.4ms\tremaining: 14s\n",
            "1:\tlearn: 0.3919498\ttotal: 113ms\tremaining: 14s\n",
            "2:\tlearn: 0.2965697\ttotal: 171ms\tremaining: 14.1s\n",
            "3:\tlearn: 0.2192500\ttotal: 228ms\tremaining: 14s\n",
            "4:\tlearn: 0.1633774\ttotal: 283ms\tremaining: 13.9s\n",
            "5:\tlearn: 0.1241565\ttotal: 344ms\tremaining: 14s\n",
            "6:\tlearn: 0.0960898\ttotal: 399ms\tremaining: 13.9s\n",
            "7:\tlearn: 0.0706352\ttotal: 438ms\tremaining: 13.3s\n",
            "8:\tlearn: 0.0541140\ttotal: 505ms\tremaining: 13.5s\n",
            "9:\tlearn: 0.0422491\ttotal: 571ms\tremaining: 13.7s\n",
            "10:\tlearn: 0.0337172\ttotal: 633ms\tremaining: 13.7s\n",
            "11:\tlearn: 0.0269671\ttotal: 688ms\tremaining: 13.7s\n",
            "12:\tlearn: 0.0221776\ttotal: 747ms\tremaining: 13.6s\n",
            "13:\tlearn: 0.0185178\ttotal: 809ms\tremaining: 13.6s\n",
            "14:\tlearn: 0.0155874\ttotal: 864ms\tremaining: 13.5s\n",
            "15:\tlearn: 0.0134632\ttotal: 920ms\tremaining: 13.5s\n",
            "16:\tlearn: 0.0118960\ttotal: 986ms\tremaining: 13.5s\n",
            "17:\tlearn: 0.0106060\ttotal: 1.04s\tremaining: 13.4s\n",
            "18:\tlearn: 0.0096865\ttotal: 1.09s\tremaining: 13.3s\n",
            "19:\tlearn: 0.0089216\ttotal: 1.15s\tremaining: 13.3s\n",
            "20:\tlearn: 0.0082481\ttotal: 1.21s\tremaining: 13.2s\n",
            "21:\tlearn: 0.0077271\ttotal: 1.27s\tremaining: 13.1s\n",
            "22:\tlearn: 0.0073229\ttotal: 1.33s\tremaining: 13.2s\n",
            "23:\tlearn: 0.0069400\ttotal: 1.4s\tremaining: 13.2s\n",
            "24:\tlearn: 0.0066294\ttotal: 1.46s\tremaining: 13.1s\n",
            "25:\tlearn: 0.0063374\ttotal: 1.52s\tremaining: 13.1s\n",
            "26:\tlearn: 0.0061241\ttotal: 1.58s\tremaining: 13.1s\n",
            "27:\tlearn: 0.0059468\ttotal: 1.64s\tremaining: 13s\n",
            "28:\tlearn: 0.0057798\ttotal: 1.7s\tremaining: 13s\n",
            "29:\tlearn: 0.0056524\ttotal: 1.76s\tremaining: 12.9s\n",
            "30:\tlearn: 0.0055159\ttotal: 1.84s\tremaining: 13s\n",
            "31:\tlearn: 0.0053963\ttotal: 1.9s\tremaining: 13s\n",
            "32:\tlearn: 0.0052893\ttotal: 1.96s\tremaining: 12.9s\n",
            "33:\tlearn: 0.0051965\ttotal: 2.02s\tremaining: 12.8s\n",
            "34:\tlearn: 0.0051121\ttotal: 2.08s\tremaining: 12.7s\n",
            "35:\tlearn: 0.0050203\ttotal: 2.14s\tremaining: 12.7s\n",
            "36:\tlearn: 0.0049275\ttotal: 2.2s\tremaining: 12.7s\n",
            "37:\tlearn: 0.0048625\ttotal: 2.27s\tremaining: 12.6s\n",
            "38:\tlearn: 0.0048042\ttotal: 2.33s\tremaining: 12.6s\n",
            "39:\tlearn: 0.0047300\ttotal: 2.39s\tremaining: 12.6s\n",
            "40:\tlearn: 0.0046855\ttotal: 2.45s\tremaining: 12.5s\n",
            "41:\tlearn: 0.0046394\ttotal: 2.52s\tremaining: 12.5s\n",
            "42:\tlearn: 0.0045687\ttotal: 2.58s\tremaining: 12.4s\n",
            "43:\tlearn: 0.0045209\ttotal: 2.65s\tremaining: 12.4s\n",
            "44:\tlearn: 0.0044699\ttotal: 2.72s\tremaining: 12.4s\n",
            "45:\tlearn: 0.0044413\ttotal: 2.78s\tremaining: 12.3s\n",
            "46:\tlearn: 0.0043791\ttotal: 2.84s\tremaining: 12.3s\n",
            "47:\tlearn: 0.0043292\ttotal: 2.9s\tremaining: 12.2s\n",
            "48:\tlearn: 0.0042813\ttotal: 2.97s\tremaining: 12.2s\n",
            "49:\tlearn: 0.0042395\ttotal: 3.08s\tremaining: 12.3s\n",
            "50:\tlearn: 0.0042016\ttotal: 3.23s\tremaining: 12.6s\n",
            "51:\tlearn: 0.0041539\ttotal: 3.35s\tremaining: 12.7s\n",
            "52:\tlearn: 0.0041214\ttotal: 3.46s\tremaining: 12.9s\n",
            "53:\tlearn: 0.0040848\ttotal: 3.59s\tremaining: 13s\n",
            "54:\tlearn: 0.0040520\ttotal: 3.73s\tremaining: 13.2s\n",
            "55:\tlearn: 0.0040171\ttotal: 3.84s\tremaining: 13.3s\n",
            "56:\tlearn: 0.0039827\ttotal: 3.96s\tremaining: 13.4s\n",
            "57:\tlearn: 0.0039394\ttotal: 4.08s\tremaining: 13.5s\n",
            "58:\tlearn: 0.0039092\ttotal: 4.22s\tremaining: 13.7s\n",
            "59:\tlearn: 0.0038763\ttotal: 4.37s\tremaining: 13.8s\n",
            "60:\tlearn: 0.0038508\ttotal: 4.52s\tremaining: 14s\n",
            "61:\tlearn: 0.0038318\ttotal: 4.64s\tremaining: 14.1s\n",
            "62:\tlearn: 0.0038092\ttotal: 4.75s\tremaining: 14.1s\n",
            "63:\tlearn: 0.0037767\ttotal: 4.85s\tremaining: 14.1s\n",
            "64:\tlearn: 0.0037507\ttotal: 4.94s\tremaining: 14.1s\n",
            "65:\tlearn: 0.0037154\ttotal: 5.04s\tremaining: 14.1s\n",
            "66:\tlearn: 0.0036938\ttotal: 5.16s\tremaining: 14.1s\n",
            "67:\tlearn: 0.0036727\ttotal: 5.3s\tremaining: 14.2s\n",
            "68:\tlearn: 0.0036459\ttotal: 5.45s\tremaining: 14.3s\n",
            "69:\tlearn: 0.0036202\ttotal: 5.62s\tremaining: 14.5s\n",
            "70:\tlearn: 0.0035947\ttotal: 5.8s\tremaining: 14.6s\n",
            "71:\tlearn: 0.0035784\ttotal: 5.96s\tremaining: 14.7s\n",
            "72:\tlearn: 0.0035459\ttotal: 6.11s\tremaining: 14.8s\n",
            "73:\tlearn: 0.0035299\ttotal: 6.26s\tremaining: 14.9s\n",
            "74:\tlearn: 0.0035126\ttotal: 6.42s\tremaining: 15s\n",
            "75:\tlearn: 0.0034896\ttotal: 6.57s\tremaining: 15.1s\n",
            "76:\tlearn: 0.0034713\ttotal: 6.66s\tremaining: 15s\n",
            "77:\tlearn: 0.0034518\ttotal: 6.71s\tremaining: 14.8s\n",
            "78:\tlearn: 0.0034337\ttotal: 6.77s\tremaining: 14.6s\n",
            "79:\tlearn: 0.0034151\ttotal: 6.83s\tremaining: 14.5s\n",
            "80:\tlearn: 0.0033942\ttotal: 6.89s\tremaining: 14.4s\n",
            "81:\tlearn: 0.0033801\ttotal: 6.95s\tremaining: 14.2s\n",
            "82:\tlearn: 0.0033576\ttotal: 7s\tremaining: 14.1s\n",
            "83:\tlearn: 0.0033443\ttotal: 7.07s\tremaining: 14s\n",
            "84:\tlearn: 0.0033274\ttotal: 7.12s\tremaining: 13.8s\n",
            "85:\tlearn: 0.0033045\ttotal: 7.18s\tremaining: 13.7s\n",
            "86:\tlearn: 0.0032859\ttotal: 7.24s\tremaining: 13.6s\n",
            "87:\tlearn: 0.0032706\ttotal: 7.3s\tremaining: 13.4s\n",
            "88:\tlearn: 0.0032583\ttotal: 7.36s\tremaining: 13.3s\n",
            "89:\tlearn: 0.0032423\ttotal: 7.42s\tremaining: 13.2s\n",
            "90:\tlearn: 0.0032248\ttotal: 7.47s\tremaining: 13.1s\n",
            "91:\tlearn: 0.0032044\ttotal: 7.54s\tremaining: 13s\n",
            "92:\tlearn: 0.0031895\ttotal: 7.6s\tremaining: 12.8s\n",
            "93:\tlearn: 0.0031709\ttotal: 7.67s\tremaining: 12.7s\n",
            "94:\tlearn: 0.0031551\ttotal: 7.73s\tremaining: 12.6s\n",
            "95:\tlearn: 0.0031351\ttotal: 7.79s\tremaining: 12.5s\n",
            "96:\tlearn: 0.0031129\ttotal: 7.85s\tremaining: 12.4s\n",
            "97:\tlearn: 0.0030971\ttotal: 7.91s\tremaining: 12.3s\n",
            "98:\tlearn: 0.0030835\ttotal: 7.97s\tremaining: 12.2s\n",
            "99:\tlearn: 0.0030661\ttotal: 8.03s\tremaining: 12s\n",
            "100:\tlearn: 0.0030492\ttotal: 8.1s\tremaining: 11.9s\n",
            "101:\tlearn: 0.0030390\ttotal: 8.15s\tremaining: 11.8s\n",
            "102:\tlearn: 0.0030246\ttotal: 8.21s\tremaining: 11.7s\n",
            "103:\tlearn: 0.0030136\ttotal: 8.28s\tremaining: 11.6s\n",
            "104:\tlearn: 0.0030040\ttotal: 8.33s\tremaining: 11.5s\n",
            "105:\tlearn: 0.0029922\ttotal: 8.38s\tremaining: 11.4s\n",
            "106:\tlearn: 0.0029820\ttotal: 8.45s\tremaining: 11.3s\n",
            "107:\tlearn: 0.0029667\ttotal: 8.5s\tremaining: 11.2s\n",
            "108:\tlearn: 0.0029570\ttotal: 8.56s\tremaining: 11.1s\n",
            "109:\tlearn: 0.0029504\ttotal: 8.62s\tremaining: 11s\n",
            "110:\tlearn: 0.0029388\ttotal: 8.7s\tremaining: 10.9s\n",
            "111:\tlearn: 0.0029249\ttotal: 8.81s\tremaining: 10.9s\n",
            "112:\tlearn: 0.0029190\ttotal: 8.91s\tremaining: 10.8s\n",
            "113:\tlearn: 0.0029007\ttotal: 9.03s\tremaining: 10.8s\n",
            "114:\tlearn: 0.0028916\ttotal: 9.13s\tremaining: 10.7s\n",
            "115:\tlearn: 0.0028763\ttotal: 9.25s\tremaining: 10.7s\n",
            "116:\tlearn: 0.0028639\ttotal: 9.38s\tremaining: 10.7s\n",
            "117:\tlearn: 0.0028557\ttotal: 9.55s\tremaining: 10.7s\n",
            "118:\tlearn: 0.0028339\ttotal: 9.72s\tremaining: 10.7s\n",
            "119:\tlearn: 0.0028244\ttotal: 9.91s\tremaining: 10.7s\n",
            "120:\tlearn: 0.0028066\ttotal: 10.1s\tremaining: 10.8s\n",
            "121:\tlearn: 0.0027934\ttotal: 10.3s\tremaining: 10.9s\n",
            "122:\tlearn: 0.0027787\ttotal: 10.6s\tremaining: 10.9s\n",
            "123:\tlearn: 0.0027677\ttotal: 10.9s\tremaining: 11s\n",
            "124:\tlearn: 0.0027562\ttotal: 11.1s\tremaining: 11.1s\n",
            "125:\tlearn: 0.0027482\ttotal: 11.2s\tremaining: 11s\n",
            "126:\tlearn: 0.0027402\ttotal: 11.4s\tremaining: 11.1s\n",
            "127:\tlearn: 0.0027298\ttotal: 11.7s\tremaining: 11.1s\n",
            "128:\tlearn: 0.0027240\ttotal: 11.9s\tremaining: 11.1s\n",
            "129:\tlearn: 0.0027161\ttotal: 12s\tremaining: 11.1s\n",
            "130:\tlearn: 0.0027083\ttotal: 12.1s\tremaining: 11s\n",
            "131:\tlearn: 0.0026966\ttotal: 12.2s\tremaining: 10.9s\n",
            "132:\tlearn: 0.0026820\ttotal: 12.3s\tremaining: 10.8s\n",
            "133:\tlearn: 0.0026745\ttotal: 12.4s\tremaining: 10.7s\n",
            "134:\tlearn: 0.0026720\ttotal: 12.5s\tremaining: 10.6s\n",
            "135:\tlearn: 0.0026579\ttotal: 12.6s\tremaining: 10.5s\n",
            "136:\tlearn: 0.0026481\ttotal: 12.7s\tremaining: 10.5s\n",
            "137:\tlearn: 0.0026334\ttotal: 12.8s\tremaining: 10.4s\n",
            "138:\tlearn: 0.0026184\ttotal: 12.9s\tremaining: 10.3s\n",
            "139:\tlearn: 0.0026059\ttotal: 13s\tremaining: 10.2s\n",
            "140:\tlearn: 0.0025963\ttotal: 13.2s\tremaining: 10.2s\n",
            "141:\tlearn: 0.0025856\ttotal: 13.3s\tremaining: 10.1s\n",
            "142:\tlearn: 0.0025753\ttotal: 13.4s\tremaining: 10.1s\n",
            "143:\tlearn: 0.0025624\ttotal: 13.6s\tremaining: 9.98s\n",
            "144:\tlearn: 0.0025545\ttotal: 13.7s\tremaining: 9.91s\n",
            "145:\tlearn: 0.0025490\ttotal: 13.8s\tremaining: 9.83s\n",
            "146:\tlearn: 0.0025428\ttotal: 13.9s\tremaining: 9.77s\n",
            "147:\tlearn: 0.0025342\ttotal: 14.1s\tremaining: 9.69s\n",
            "148:\tlearn: 0.0025226\ttotal: 14.2s\tremaining: 9.61s\n",
            "149:\tlearn: 0.0025138\ttotal: 14.2s\tremaining: 9.49s\n",
            "150:\tlearn: 0.0025010\ttotal: 14.3s\tremaining: 9.4s\n",
            "151:\tlearn: 0.0024930\ttotal: 14.5s\tremaining: 9.33s\n",
            "152:\tlearn: 0.0024784\ttotal: 14.6s\tremaining: 9.24s\n",
            "153:\tlearn: 0.0024668\ttotal: 14.7s\tremaining: 9.16s\n",
            "154:\tlearn: 0.0024612\ttotal: 14.8s\tremaining: 9.08s\n",
            "155:\tlearn: 0.0024536\ttotal: 14.9s\tremaining: 8.99s\n",
            "156:\tlearn: 0.0024467\ttotal: 15s\tremaining: 8.9s\n",
            "157:\tlearn: 0.0024411\ttotal: 15.1s\tremaining: 8.8s\n",
            "158:\tlearn: 0.0024280\ttotal: 15.2s\tremaining: 8.72s\n",
            "159:\tlearn: 0.0024171\ttotal: 15.3s\tremaining: 8.61s\n",
            "160:\tlearn: 0.0024112\ttotal: 15.3s\tremaining: 8.47s\n",
            "161:\tlearn: 0.0024052\ttotal: 15.4s\tremaining: 8.36s\n",
            "162:\tlearn: 0.0023972\ttotal: 15.4s\tremaining: 8.24s\n",
            "163:\tlearn: 0.0023918\ttotal: 15.5s\tremaining: 8.13s\n",
            "164:\tlearn: 0.0023827\ttotal: 15.6s\tremaining: 8.02s\n",
            "165:\tlearn: 0.0023729\ttotal: 15.6s\tremaining: 7.9s\n",
            "166:\tlearn: 0.0023571\ttotal: 15.7s\tremaining: 7.8s\n",
            "167:\tlearn: 0.0023522\ttotal: 15.7s\tremaining: 7.67s\n",
            "168:\tlearn: 0.0023421\ttotal: 15.8s\tremaining: 7.56s\n",
            "169:\tlearn: 0.0023372\ttotal: 15.8s\tremaining: 7.45s\n",
            "170:\tlearn: 0.0023294\ttotal: 15.9s\tremaining: 7.35s\n",
            "171:\tlearn: 0.0023218\ttotal: 16s\tremaining: 7.24s\n",
            "172:\tlearn: 0.0023165\ttotal: 16s\tremaining: 7.13s\n",
            "173:\tlearn: 0.0023093\ttotal: 16.1s\tremaining: 7.02s\n",
            "174:\tlearn: 0.0023011\ttotal: 16.1s\tremaining: 6.92s\n",
            "175:\tlearn: 0.0022944\ttotal: 16.2s\tremaining: 6.81s\n",
            "176:\tlearn: 0.0022866\ttotal: 16.3s\tremaining: 6.71s\n",
            "177:\tlearn: 0.0022731\ttotal: 16.3s\tremaining: 6.6s\n",
            "178:\tlearn: 0.0022682\ttotal: 16.4s\tremaining: 6.5s\n",
            "179:\tlearn: 0.0022596\ttotal: 16.4s\tremaining: 6.4s\n",
            "180:\tlearn: 0.0022533\ttotal: 16.5s\tremaining: 6.29s\n",
            "181:\tlearn: 0.0022409\ttotal: 16.6s\tremaining: 6.19s\n",
            "182:\tlearn: 0.0022350\ttotal: 16.6s\tremaining: 6.09s\n",
            "183:\tlearn: 0.0022273\ttotal: 16.7s\tremaining: 5.99s\n",
            "184:\tlearn: 0.0022176\ttotal: 16.7s\tremaining: 5.88s\n",
            "185:\tlearn: 0.0022065\ttotal: 16.8s\tremaining: 5.78s\n",
            "186:\tlearn: 0.0021980\ttotal: 16.9s\tremaining: 5.68s\n",
            "187:\tlearn: 0.0021875\ttotal: 16.9s\tremaining: 5.58s\n",
            "188:\tlearn: 0.0021764\ttotal: 17s\tremaining: 5.48s\n",
            "189:\tlearn: 0.0021669\ttotal: 17s\tremaining: 5.38s\n",
            "190:\tlearn: 0.0021572\ttotal: 17.1s\tremaining: 5.28s\n",
            "191:\tlearn: 0.0021508\ttotal: 17.2s\tremaining: 5.18s\n",
            "192:\tlearn: 0.0021441\ttotal: 17.2s\tremaining: 5.08s\n",
            "193:\tlearn: 0.0021387\ttotal: 17.3s\tremaining: 4.99s\n",
            "194:\tlearn: 0.0021339\ttotal: 17.3s\tremaining: 4.89s\n",
            "195:\tlearn: 0.0021307\ttotal: 17.4s\tremaining: 4.79s\n",
            "196:\tlearn: 0.0021250\ttotal: 17.4s\tremaining: 4.69s\n",
            "197:\tlearn: 0.0021189\ttotal: 17.5s\tremaining: 4.6s\n",
            "198:\tlearn: 0.0021085\ttotal: 17.6s\tremaining: 4.51s\n",
            "199:\tlearn: 0.0021025\ttotal: 17.6s\tremaining: 4.41s\n",
            "200:\tlearn: 0.0020985\ttotal: 17.7s\tremaining: 4.31s\n",
            "201:\tlearn: 0.0020933\ttotal: 17.8s\tremaining: 4.22s\n",
            "202:\tlearn: 0.0020878\ttotal: 17.9s\tremaining: 4.13s\n",
            "203:\tlearn: 0.0020817\ttotal: 17.9s\tremaining: 4.04s\n",
            "204:\tlearn: 0.0020785\ttotal: 18s\tremaining: 3.94s\n",
            "205:\tlearn: 0.0020681\ttotal: 18s\tremaining: 3.85s\n",
            "206:\tlearn: 0.0020643\ttotal: 18.1s\tremaining: 3.76s\n",
            "207:\tlearn: 0.0020606\ttotal: 18.2s\tremaining: 3.68s\n",
            "208:\tlearn: 0.0020554\ttotal: 18.3s\tremaining: 3.6s\n",
            "209:\tlearn: 0.0020517\ttotal: 18.4s\tremaining: 3.51s\n",
            "210:\tlearn: 0.0020440\ttotal: 18.6s\tremaining: 3.43s\n",
            "211:\tlearn: 0.0020345\ttotal: 18.7s\tremaining: 3.35s\n",
            "212:\tlearn: 0.0020303\ttotal: 18.8s\tremaining: 3.26s\n",
            "213:\tlearn: 0.0020195\ttotal: 18.9s\tremaining: 3.19s\n",
            "214:\tlearn: 0.0020146\ttotal: 19.1s\tremaining: 3.11s\n",
            "215:\tlearn: 0.0020084\ttotal: 19.2s\tremaining: 3.03s\n",
            "216:\tlearn: 0.0020049\ttotal: 19.3s\tremaining: 2.93s\n",
            "217:\tlearn: 0.0020020\ttotal: 19.3s\tremaining: 2.84s\n",
            "218:\tlearn: 0.0019982\ttotal: 19.4s\tremaining: 2.75s\n",
            "219:\tlearn: 0.0019905\ttotal: 19.5s\tremaining: 2.65s\n",
            "220:\tlearn: 0.0019878\ttotal: 19.5s\tremaining: 2.56s\n",
            "221:\tlearn: 0.0019810\ttotal: 19.6s\tremaining: 2.47s\n",
            "222:\tlearn: 0.0019762\ttotal: 19.7s\tremaining: 2.38s\n",
            "223:\tlearn: 0.0019659\ttotal: 19.8s\tremaining: 2.29s\n",
            "224:\tlearn: 0.0019590\ttotal: 19.8s\tremaining: 2.2s\n",
            "225:\tlearn: 0.0019470\ttotal: 19.9s\tremaining: 2.11s\n",
            "226:\tlearn: 0.0019422\ttotal: 20s\tremaining: 2.02s\n",
            "227:\tlearn: 0.0019378\ttotal: 20.1s\tremaining: 1.94s\n",
            "228:\tlearn: 0.0019339\ttotal: 20.2s\tremaining: 1.85s\n",
            "229:\tlearn: 0.0019284\ttotal: 20.3s\tremaining: 1.76s\n",
            "230:\tlearn: 0.0019247\ttotal: 20.4s\tremaining: 1.68s\n",
            "231:\tlearn: 0.0019225\ttotal: 20.5s\tremaining: 1.59s\n",
            "232:\tlearn: 0.0019178\ttotal: 20.6s\tremaining: 1.5s\n",
            "233:\tlearn: 0.0019066\ttotal: 20.7s\tremaining: 1.42s\n",
            "234:\tlearn: 0.0019031\ttotal: 20.8s\tremaining: 1.33s\n",
            "235:\tlearn: 0.0018998\ttotal: 20.9s\tremaining: 1.24s\n",
            "236:\tlearn: 0.0018938\ttotal: 21s\tremaining: 1.15s\n",
            "237:\tlearn: 0.0018891\ttotal: 21.1s\tremaining: 1.06s\n",
            "238:\tlearn: 0.0018852\ttotal: 21.2s\tremaining: 975ms\n",
            "239:\tlearn: 0.0018808\ttotal: 21.3s\tremaining: 886ms\n",
            "240:\tlearn: 0.0018751\ttotal: 21.4s\tremaining: 798ms\n",
            "241:\tlearn: 0.0018685\ttotal: 21.5s\tremaining: 711ms\n",
            "242:\tlearn: 0.0018647\ttotal: 21.6s\tremaining: 623ms\n",
            "243:\tlearn: 0.0018601\ttotal: 21.7s\tremaining: 535ms\n",
            "244:\tlearn: 0.0018564\ttotal: 21.9s\tremaining: 446ms\n",
            "245:\tlearn: 0.0018530\ttotal: 22s\tremaining: 358ms\n",
            "246:\tlearn: 0.0018490\ttotal: 22.1s\tremaining: 269ms\n",
            "247:\tlearn: 0.0018478\ttotal: 22.2s\tremaining: 179ms\n",
            "248:\tlearn: 0.0018435\ttotal: 22.3s\tremaining: 89.7ms\n",
            "249:\tlearn: 0.0018401\ttotal: 22.4s\tremaining: 0us\n"
          ]
        },
        {
          "output_type": "execute_result",
          "data": {
            "text/plain": [
              "<catboost.core.CatBoostClassifier at 0x7fce8e75fbe0>"
            ]
          },
          "metadata": {},
          "execution_count": 140
        }
      ]
    },
    {
      "cell_type": "code",
      "source": [
        "model_final = CatBoostClassifier(random_seed=42,\n",
        "                                 verbose=1,\n",
        "                                 cat_features=cat_cols,\n",
        "                                 **search.best_params_)\n",
        "model_final.fit(pd.concat([train.drop(dropcols, axis=1), valid.drop(dropcols, axis=1)], axis=0),\n",
        "                pd.concat([train[\"label\"], valid[\"label\"]], axis=0))"
      ],
      "metadata": {
        "colab": {
          "base_uri": "https://localhost:8080/"
        },
        "id": "-I4dsk8kHMSO",
        "outputId": "126f79fa-43c6-4bac-aae4-6357212238a5"
      },
      "execution_count": 141,
      "outputs": [
        {
          "output_type": "stream",
          "name": "stdout",
          "text": [
            "0:\tlearn: 0.5184184\ttotal: 117ms\tremaining: 29.1s\n",
            "1:\tlearn: 0.3942613\ttotal: 237ms\tremaining: 29.4s\n",
            "2:\tlearn: 0.2856264\ttotal: 364ms\tremaining: 30s\n",
            "3:\tlearn: 0.2151476\ttotal: 536ms\tremaining: 32.9s\n",
            "4:\tlearn: 0.1619127\ttotal: 750ms\tremaining: 36.8s\n",
            "5:\tlearn: 0.1239369\ttotal: 918ms\tremaining: 37.3s\n",
            "6:\tlearn: 0.0964952\ttotal: 1.09s\tremaining: 38s\n",
            "7:\tlearn: 0.0757825\ttotal: 1.23s\tremaining: 37.3s\n",
            "8:\tlearn: 0.0569609\ttotal: 1.42s\tremaining: 38.1s\n",
            "9:\tlearn: 0.0447744\ttotal: 1.59s\tremaining: 38.2s\n",
            "10:\tlearn: 0.0347053\ttotal: 1.73s\tremaining: 37.6s\n",
            "11:\tlearn: 0.0270294\ttotal: 1.9s\tremaining: 37.6s\n",
            "12:\tlearn: 0.0216242\ttotal: 2.04s\tremaining: 37.2s\n",
            "13:\tlearn: 0.0177971\ttotal: 2.22s\tremaining: 37.5s\n",
            "14:\tlearn: 0.0148858\ttotal: 2.41s\tremaining: 37.8s\n",
            "15:\tlearn: 0.0127882\ttotal: 2.57s\tremaining: 37.6s\n",
            "16:\tlearn: 0.0111602\ttotal: 2.71s\tremaining: 37.1s\n",
            "17:\tlearn: 0.0099370\ttotal: 2.87s\tremaining: 37s\n",
            "18:\tlearn: 0.0089990\ttotal: 2.99s\tremaining: 36.4s\n",
            "19:\tlearn: 0.0081934\ttotal: 3.15s\tremaining: 36.3s\n",
            "20:\tlearn: 0.0075801\ttotal: 3.33s\tremaining: 36.3s\n",
            "21:\tlearn: 0.0070272\ttotal: 3.54s\tremaining: 36.7s\n",
            "22:\tlearn: 0.0066315\ttotal: 3.68s\tremaining: 36.4s\n",
            "23:\tlearn: 0.0063104\ttotal: 3.85s\tremaining: 36.2s\n",
            "24:\tlearn: 0.0060271\ttotal: 3.92s\tremaining: 35.3s\n",
            "25:\tlearn: 0.0057909\ttotal: 3.99s\tremaining: 34.4s\n",
            "26:\tlearn: 0.0055604\ttotal: 4.05s\tremaining: 33.5s\n",
            "27:\tlearn: 0.0053997\ttotal: 4.16s\tremaining: 33s\n",
            "28:\tlearn: 0.0052476\ttotal: 4.26s\tremaining: 32.4s\n",
            "29:\tlearn: 0.0051140\ttotal: 4.34s\tremaining: 31.8s\n",
            "30:\tlearn: 0.0049855\ttotal: 4.4s\tremaining: 31.1s\n",
            "31:\tlearn: 0.0048793\ttotal: 4.49s\tremaining: 30.6s\n",
            "32:\tlearn: 0.0047850\ttotal: 4.6s\tremaining: 30.3s\n",
            "33:\tlearn: 0.0046956\ttotal: 4.67s\tremaining: 29.7s\n",
            "34:\tlearn: 0.0046273\ttotal: 4.75s\tremaining: 29.2s\n",
            "35:\tlearn: 0.0045633\ttotal: 4.81s\tremaining: 28.6s\n",
            "36:\tlearn: 0.0045059\ttotal: 4.92s\tremaining: 28.3s\n",
            "37:\tlearn: 0.0044400\ttotal: 4.99s\tremaining: 27.8s\n",
            "38:\tlearn: 0.0043932\ttotal: 5.06s\tremaining: 27.4s\n",
            "39:\tlearn: 0.0043543\ttotal: 5.13s\tremaining: 27s\n",
            "40:\tlearn: 0.0043078\ttotal: 5.24s\tremaining: 26.7s\n",
            "41:\tlearn: 0.0042686\ttotal: 5.31s\tremaining: 26.3s\n",
            "42:\tlearn: 0.0042324\ttotal: 5.38s\tremaining: 25.9s\n",
            "43:\tlearn: 0.0041889\ttotal: 5.45s\tremaining: 25.5s\n",
            "44:\tlearn: 0.0041552\ttotal: 5.54s\tremaining: 25.2s\n",
            "45:\tlearn: 0.0041147\ttotal: 5.66s\tremaining: 25.1s\n",
            "46:\tlearn: 0.0040842\ttotal: 5.74s\tremaining: 24.8s\n",
            "47:\tlearn: 0.0040430\ttotal: 5.8s\tremaining: 24.4s\n",
            "48:\tlearn: 0.0040014\ttotal: 5.87s\tremaining: 24.1s\n",
            "49:\tlearn: 0.0039642\ttotal: 5.98s\tremaining: 23.9s\n",
            "50:\tlearn: 0.0039199\ttotal: 6.08s\tremaining: 23.7s\n",
            "51:\tlearn: 0.0038778\ttotal: 6.16s\tremaining: 23.4s\n",
            "52:\tlearn: 0.0038585\ttotal: 6.23s\tremaining: 23.2s\n",
            "53:\tlearn: 0.0038203\ttotal: 6.34s\tremaining: 23s\n",
            "54:\tlearn: 0.0037912\ttotal: 6.42s\tremaining: 22.8s\n",
            "55:\tlearn: 0.0037426\ttotal: 6.49s\tremaining: 22.5s\n",
            "56:\tlearn: 0.0037051\ttotal: 6.55s\tremaining: 22.2s\n",
            "57:\tlearn: 0.0036762\ttotal: 6.66s\tremaining: 22s\n",
            "58:\tlearn: 0.0036454\ttotal: 6.75s\tremaining: 21.9s\n",
            "59:\tlearn: 0.0036245\ttotal: 6.82s\tremaining: 21.6s\n",
            "60:\tlearn: 0.0035919\ttotal: 6.89s\tremaining: 21.4s\n",
            "61:\tlearn: 0.0035581\ttotal: 6.96s\tremaining: 21.1s\n",
            "62:\tlearn: 0.0035308\ttotal: 7.08s\tremaining: 21s\n",
            "63:\tlearn: 0.0035103\ttotal: 7.17s\tremaining: 20.8s\n",
            "64:\tlearn: 0.0034881\ttotal: 7.23s\tremaining: 20.6s\n",
            "65:\tlearn: 0.0034612\ttotal: 7.31s\tremaining: 20.4s\n",
            "66:\tlearn: 0.0034424\ttotal: 7.41s\tremaining: 20.2s\n",
            "67:\tlearn: 0.0034188\ttotal: 7.54s\tremaining: 20.2s\n",
            "68:\tlearn: 0.0033982\ttotal: 7.63s\tremaining: 20s\n",
            "69:\tlearn: 0.0033805\ttotal: 7.69s\tremaining: 19.8s\n",
            "70:\tlearn: 0.0033550\ttotal: 7.75s\tremaining: 19.5s\n",
            "71:\tlearn: 0.0033356\ttotal: 7.84s\tremaining: 19.4s\n",
            "72:\tlearn: 0.0033155\ttotal: 7.95s\tremaining: 19.3s\n",
            "73:\tlearn: 0.0032932\ttotal: 8.04s\tremaining: 19.1s\n",
            "74:\tlearn: 0.0032776\ttotal: 8.11s\tremaining: 18.9s\n",
            "75:\tlearn: 0.0032599\ttotal: 8.18s\tremaining: 18.7s\n",
            "76:\tlearn: 0.0032459\ttotal: 8.26s\tremaining: 18.6s\n",
            "77:\tlearn: 0.0032289\ttotal: 8.43s\tremaining: 18.6s\n",
            "78:\tlearn: 0.0032132\ttotal: 8.67s\tremaining: 18.8s\n",
            "79:\tlearn: 0.0031931\ttotal: 8.92s\tremaining: 19s\n",
            "80:\tlearn: 0.0031807\ttotal: 9.23s\tremaining: 19.3s\n",
            "81:\tlearn: 0.0031650\ttotal: 9.32s\tremaining: 19.1s\n",
            "82:\tlearn: 0.0031479\ttotal: 9.4s\tremaining: 18.9s\n",
            "83:\tlearn: 0.0031312\ttotal: 9.47s\tremaining: 18.7s\n",
            "84:\tlearn: 0.0031175\ttotal: 9.54s\tremaining: 18.5s\n",
            "85:\tlearn: 0.0031035\ttotal: 9.61s\tremaining: 18.3s\n",
            "86:\tlearn: 0.0030925\ttotal: 9.77s\tremaining: 18.3s\n",
            "87:\tlearn: 0.0030756\ttotal: 9.88s\tremaining: 18.2s\n",
            "88:\tlearn: 0.0030636\ttotal: 9.95s\tremaining: 18s\n",
            "89:\tlearn: 0.0030492\ttotal: 10s\tremaining: 17.8s\n",
            "90:\tlearn: 0.0030255\ttotal: 10.1s\tremaining: 17.6s\n",
            "91:\tlearn: 0.0030127\ttotal: 10.2s\tremaining: 17.5s\n",
            "92:\tlearn: 0.0029939\ttotal: 10.3s\tremaining: 17.3s\n",
            "93:\tlearn: 0.0029776\ttotal: 10.3s\tremaining: 17.2s\n",
            "94:\tlearn: 0.0029648\ttotal: 10.4s\tremaining: 17s\n",
            "95:\tlearn: 0.0029489\ttotal: 10.5s\tremaining: 16.9s\n",
            "96:\tlearn: 0.0029366\ttotal: 10.6s\tremaining: 16.7s\n",
            "97:\tlearn: 0.0029242\ttotal: 10.7s\tremaining: 16.5s\n",
            "98:\tlearn: 0.0029114\ttotal: 10.7s\tremaining: 16.4s\n",
            "99:\tlearn: 0.0028921\ttotal: 10.8s\tremaining: 16.3s\n",
            "100:\tlearn: 0.0028771\ttotal: 11s\tremaining: 16.2s\n",
            "101:\tlearn: 0.0028685\ttotal: 11.1s\tremaining: 16.1s\n",
            "102:\tlearn: 0.0028545\ttotal: 11.2s\tremaining: 16s\n",
            "103:\tlearn: 0.0028436\ttotal: 11.3s\tremaining: 15.9s\n",
            "104:\tlearn: 0.0028265\ttotal: 11.4s\tremaining: 15.8s\n",
            "105:\tlearn: 0.0028154\ttotal: 11.6s\tremaining: 15.7s\n",
            "106:\tlearn: 0.0028032\ttotal: 11.7s\tremaining: 15.7s\n",
            "107:\tlearn: 0.0027941\ttotal: 11.8s\tremaining: 15.6s\n",
            "108:\tlearn: 0.0027837\ttotal: 12s\tremaining: 15.5s\n",
            "109:\tlearn: 0.0027736\ttotal: 12.1s\tremaining: 15.4s\n",
            "110:\tlearn: 0.0027637\ttotal: 12.2s\tremaining: 15.3s\n",
            "111:\tlearn: 0.0027505\ttotal: 12.4s\tremaining: 15.2s\n",
            "112:\tlearn: 0.0027358\ttotal: 12.5s\tremaining: 15.1s\n",
            "113:\tlearn: 0.0027189\ttotal: 12.6s\tremaining: 15s\n",
            "114:\tlearn: 0.0027058\ttotal: 12.7s\tremaining: 15s\n",
            "115:\tlearn: 0.0026924\ttotal: 12.9s\tremaining: 14.9s\n",
            "116:\tlearn: 0.0026819\ttotal: 12.9s\tremaining: 14.7s\n",
            "117:\tlearn: 0.0026661\ttotal: 13s\tremaining: 14.6s\n",
            "118:\tlearn: 0.0026533\ttotal: 13.1s\tremaining: 14.4s\n",
            "119:\tlearn: 0.0026316\ttotal: 13.1s\tremaining: 14.2s\n",
            "120:\tlearn: 0.0026229\ttotal: 13.2s\tremaining: 14.1s\n",
            "121:\tlearn: 0.0026088\ttotal: 13.3s\tremaining: 13.9s\n",
            "122:\tlearn: 0.0025949\ttotal: 13.4s\tremaining: 13.8s\n",
            "123:\tlearn: 0.0025851\ttotal: 13.4s\tremaining: 13.7s\n",
            "124:\tlearn: 0.0025770\ttotal: 13.5s\tremaining: 13.5s\n",
            "125:\tlearn: 0.0025679\ttotal: 13.6s\tremaining: 13.4s\n",
            "126:\tlearn: 0.0025554\ttotal: 13.7s\tremaining: 13.3s\n",
            "127:\tlearn: 0.0025436\ttotal: 13.8s\tremaining: 13.2s\n",
            "128:\tlearn: 0.0025363\ttotal: 13.9s\tremaining: 13.1s\n",
            "129:\tlearn: 0.0025291\ttotal: 14.1s\tremaining: 13s\n",
            "130:\tlearn: 0.0025184\ttotal: 14.2s\tremaining: 12.9s\n",
            "131:\tlearn: 0.0025096\ttotal: 14.3s\tremaining: 12.8s\n",
            "132:\tlearn: 0.0024970\ttotal: 14.4s\tremaining: 12.7s\n",
            "133:\tlearn: 0.0024844\ttotal: 14.5s\tremaining: 12.6s\n",
            "134:\tlearn: 0.0024758\ttotal: 14.7s\tremaining: 12.5s\n",
            "135:\tlearn: 0.0024680\ttotal: 14.8s\tremaining: 12.4s\n",
            "136:\tlearn: 0.0024581\ttotal: 14.9s\tremaining: 12.3s\n",
            "137:\tlearn: 0.0024508\ttotal: 15.1s\tremaining: 12.3s\n",
            "138:\tlearn: 0.0024444\ttotal: 15.3s\tremaining: 12.2s\n",
            "139:\tlearn: 0.0024402\ttotal: 15.5s\tremaining: 12.2s\n",
            "140:\tlearn: 0.0024274\ttotal: 15.6s\tremaining: 12.1s\n",
            "141:\tlearn: 0.0024118\ttotal: 15.8s\tremaining: 12s\n",
            "142:\tlearn: 0.0024013\ttotal: 15.9s\tremaining: 11.9s\n",
            "143:\tlearn: 0.0023934\ttotal: 16.1s\tremaining: 11.9s\n",
            "144:\tlearn: 0.0023850\ttotal: 16.3s\tremaining: 11.8s\n",
            "145:\tlearn: 0.0023807\ttotal: 16.5s\tremaining: 11.8s\n",
            "146:\tlearn: 0.0023733\ttotal: 16.7s\tremaining: 11.7s\n",
            "147:\tlearn: 0.0023675\ttotal: 16.9s\tremaining: 11.6s\n",
            "148:\tlearn: 0.0023592\ttotal: 17s\tremaining: 11.5s\n",
            "149:\tlearn: 0.0023516\ttotal: 17.3s\tremaining: 11.5s\n",
            "150:\tlearn: 0.0023434\ttotal: 17.5s\tremaining: 11.4s\n",
            "151:\tlearn: 0.0023259\ttotal: 17.6s\tremaining: 11.3s\n",
            "152:\tlearn: 0.0023195\ttotal: 17.7s\tremaining: 11.2s\n",
            "153:\tlearn: 0.0023050\ttotal: 17.7s\tremaining: 11.1s\n",
            "154:\tlearn: 0.0022966\ttotal: 17.9s\tremaining: 10.9s\n",
            "155:\tlearn: 0.0022907\ttotal: 18s\tremaining: 10.8s\n",
            "156:\tlearn: 0.0022828\ttotal: 18s\tremaining: 10.7s\n",
            "157:\tlearn: 0.0022728\ttotal: 18.1s\tremaining: 10.6s\n",
            "158:\tlearn: 0.0022663\ttotal: 18.2s\tremaining: 10.4s\n",
            "159:\tlearn: 0.0022585\ttotal: 18.3s\tremaining: 10.3s\n",
            "160:\tlearn: 0.0022453\ttotal: 18.4s\tremaining: 10.2s\n",
            "161:\tlearn: 0.0022397\ttotal: 18.5s\tremaining: 10s\n",
            "162:\tlearn: 0.0022325\ttotal: 18.6s\tremaining: 9.92s\n",
            "163:\tlearn: 0.0022261\ttotal: 18.7s\tremaining: 9.79s\n",
            "164:\tlearn: 0.0022164\ttotal: 18.8s\tremaining: 9.69s\n",
            "165:\tlearn: 0.0022090\ttotal: 18.9s\tremaining: 9.57s\n",
            "166:\tlearn: 0.0022049\ttotal: 19s\tremaining: 9.46s\n",
            "167:\tlearn: 0.0021983\ttotal: 19.2s\tremaining: 9.35s\n",
            "168:\tlearn: 0.0021902\ttotal: 19.3s\tremaining: 9.25s\n",
            "169:\tlearn: 0.0021804\ttotal: 19.4s\tremaining: 9.12s\n",
            "170:\tlearn: 0.0021738\ttotal: 19.5s\tremaining: 9.01s\n",
            "171:\tlearn: 0.0021662\ttotal: 19.6s\tremaining: 8.91s\n",
            "172:\tlearn: 0.0021574\ttotal: 19.7s\tremaining: 8.78s\n",
            "173:\tlearn: 0.0021452\ttotal: 19.9s\tremaining: 8.67s\n",
            "174:\tlearn: 0.0021392\ttotal: 19.9s\tremaining: 8.55s\n",
            "175:\tlearn: 0.0021305\ttotal: 20s\tremaining: 8.43s\n",
            "176:\tlearn: 0.0021271\ttotal: 20.1s\tremaining: 8.31s\n",
            "177:\tlearn: 0.0021164\ttotal: 20.2s\tremaining: 8.18s\n",
            "178:\tlearn: 0.0021077\ttotal: 20.3s\tremaining: 8.04s\n",
            "179:\tlearn: 0.0021035\ttotal: 20.3s\tremaining: 7.91s\n",
            "180:\tlearn: 0.0020970\ttotal: 20.4s\tremaining: 7.79s\n",
            "181:\tlearn: 0.0020922\ttotal: 20.5s\tremaining: 7.66s\n",
            "182:\tlearn: 0.0020875\ttotal: 20.6s\tremaining: 7.53s\n",
            "183:\tlearn: 0.0020849\ttotal: 20.6s\tremaining: 7.4s\n",
            "184:\tlearn: 0.0020792\ttotal: 20.7s\tremaining: 7.27s\n",
            "185:\tlearn: 0.0020755\ttotal: 20.8s\tremaining: 7.15s\n",
            "186:\tlearn: 0.0020660\ttotal: 20.9s\tremaining: 7.03s\n",
            "187:\tlearn: 0.0020590\ttotal: 21s\tremaining: 6.92s\n",
            "188:\tlearn: 0.0020517\ttotal: 21.1s\tremaining: 6.81s\n",
            "189:\tlearn: 0.0020450\ttotal: 21.2s\tremaining: 6.7s\n",
            "190:\tlearn: 0.0020411\ttotal: 21.3s\tremaining: 6.59s\n",
            "191:\tlearn: 0.0020389\ttotal: 21.5s\tremaining: 6.49s\n",
            "192:\tlearn: 0.0020346\ttotal: 21.6s\tremaining: 6.37s\n",
            "193:\tlearn: 0.0020299\ttotal: 21.7s\tremaining: 6.25s\n",
            "194:\tlearn: 0.0020186\ttotal: 21.7s\tremaining: 6.13s\n",
            "195:\tlearn: 0.0020162\ttotal: 21.8s\tremaining: 6s\n",
            "196:\tlearn: 0.0020089\ttotal: 21.9s\tremaining: 5.88s\n",
            "197:\tlearn: 0.0020066\ttotal: 21.9s\tremaining: 5.76s\n",
            "198:\tlearn: 0.0019983\ttotal: 22s\tremaining: 5.63s\n",
            "199:\tlearn: 0.0019944\ttotal: 22.1s\tremaining: 5.51s\n",
            "200:\tlearn: 0.0019904\ttotal: 22.1s\tremaining: 5.39s\n",
            "201:\tlearn: 0.0019859\ttotal: 22.2s\tremaining: 5.27s\n",
            "202:\tlearn: 0.0019819\ttotal: 22.3s\tremaining: 5.15s\n",
            "203:\tlearn: 0.0019775\ttotal: 22.3s\tremaining: 5.03s\n",
            "204:\tlearn: 0.0019725\ttotal: 22.4s\tremaining: 4.92s\n",
            "205:\tlearn: 0.0019635\ttotal: 22.5s\tremaining: 4.8s\n",
            "206:\tlearn: 0.0019549\ttotal: 22.5s\tremaining: 4.68s\n",
            "207:\tlearn: 0.0019488\ttotal: 22.6s\tremaining: 4.56s\n",
            "208:\tlearn: 0.0019404\ttotal: 22.7s\tremaining: 4.45s\n",
            "209:\tlearn: 0.0019366\ttotal: 22.7s\tremaining: 4.33s\n",
            "210:\tlearn: 0.0019299\ttotal: 22.8s\tremaining: 4.21s\n",
            "211:\tlearn: 0.0019229\ttotal: 22.9s\tremaining: 4.1s\n",
            "212:\tlearn: 0.0019160\ttotal: 22.9s\tremaining: 3.99s\n",
            "213:\tlearn: 0.0019128\ttotal: 23s\tremaining: 3.87s\n",
            "214:\tlearn: 0.0019076\ttotal: 23.1s\tremaining: 3.76s\n",
            "215:\tlearn: 0.0018985\ttotal: 23.1s\tremaining: 3.64s\n",
            "216:\tlearn: 0.0018915\ttotal: 23.2s\tremaining: 3.53s\n",
            "217:\tlearn: 0.0018851\ttotal: 23.3s\tremaining: 3.42s\n",
            "218:\tlearn: 0.0018784\ttotal: 23.3s\tremaining: 3.3s\n",
            "219:\tlearn: 0.0018746\ttotal: 23.4s\tremaining: 3.19s\n",
            "220:\tlearn: 0.0018697\ttotal: 23.5s\tremaining: 3.08s\n",
            "221:\tlearn: 0.0018646\ttotal: 23.6s\tremaining: 2.97s\n",
            "222:\tlearn: 0.0018619\ttotal: 23.6s\tremaining: 2.86s\n",
            "223:\tlearn: 0.0018562\ttotal: 23.7s\tremaining: 2.75s\n",
            "224:\tlearn: 0.0018505\ttotal: 23.8s\tremaining: 2.64s\n",
            "225:\tlearn: 0.0018468\ttotal: 23.8s\tremaining: 2.53s\n",
            "226:\tlearn: 0.0018426\ttotal: 23.9s\tremaining: 2.42s\n",
            "227:\tlearn: 0.0018387\ttotal: 23.9s\tremaining: 2.31s\n",
            "228:\tlearn: 0.0018350\ttotal: 24s\tremaining: 2.2s\n",
            "229:\tlearn: 0.0018295\ttotal: 24.1s\tremaining: 2.09s\n",
            "230:\tlearn: 0.0018239\ttotal: 24.2s\tremaining: 1.99s\n",
            "231:\tlearn: 0.0018192\ttotal: 24.2s\tremaining: 1.88s\n",
            "232:\tlearn: 0.0018156\ttotal: 24.3s\tremaining: 1.77s\n",
            "233:\tlearn: 0.0018113\ttotal: 24.4s\tremaining: 1.67s\n",
            "234:\tlearn: 0.0018067\ttotal: 24.4s\tremaining: 1.56s\n",
            "235:\tlearn: 0.0018027\ttotal: 24.5s\tremaining: 1.45s\n",
            "236:\tlearn: 0.0017980\ttotal: 24.6s\tremaining: 1.35s\n",
            "237:\tlearn: 0.0017905\ttotal: 24.6s\tremaining: 1.24s\n",
            "238:\tlearn: 0.0017859\ttotal: 24.7s\tremaining: 1.14s\n",
            "239:\tlearn: 0.0017837\ttotal: 24.8s\tremaining: 1.03s\n",
            "240:\tlearn: 0.0017782\ttotal: 24.8s\tremaining: 928ms\n",
            "241:\tlearn: 0.0017765\ttotal: 24.9s\tremaining: 824ms\n",
            "242:\tlearn: 0.0017718\ttotal: 25s\tremaining: 720ms\n",
            "243:\tlearn: 0.0017701\ttotal: 25.1s\tremaining: 616ms\n",
            "244:\tlearn: 0.0017640\ttotal: 25.1s\tremaining: 513ms\n",
            "245:\tlearn: 0.0017606\ttotal: 25.2s\tremaining: 410ms\n",
            "246:\tlearn: 0.0017571\ttotal: 25.3s\tremaining: 307ms\n",
            "247:\tlearn: 0.0017529\ttotal: 25.3s\tremaining: 204ms\n",
            "248:\tlearn: 0.0017485\ttotal: 25.4s\tremaining: 102ms\n",
            "249:\tlearn: 0.0017420\ttotal: 25.5s\tremaining: 0us\n"
          ]
        },
        {
          "output_type": "execute_result",
          "data": {
            "text/plain": [
              "<catboost.core.CatBoostClassifier at 0x7fce8dfb9030>"
            ]
          },
          "metadata": {},
          "execution_count": 141
        }
      ]
    },
    {
      "cell_type": "markdown",
      "source": [
        "# Analyze results"
      ],
      "metadata": {
        "id": "cUCwMLrmWbtY"
      }
    },
    {
      "cell_type": "code",
      "source": [
        "train_scores = model.predict_proba(train.drop(dropcols, axis=1))\n",
        "valid_scores = model.predict_proba(valid.drop(dropcols, axis=1))"
      ],
      "metadata": {
        "id": "FC6Vs5byS4Iz"
      },
      "execution_count": 142,
      "outputs": []
    },
    {
      "cell_type": "code",
      "source": [
        "# наверное стоило откалибровать модель"
      ],
      "metadata": {
        "id": "5d_ruPrQJx3s"
      },
      "execution_count": 143,
      "outputs": []
    },
    {
      "cell_type": "code",
      "source": [
        "fpr, tpr, thresholds = roc_curve(valid[\"label\"], valid_scores[:, 1])\n",
        "\n",
        "gmeans = np.sqrt(tpr * (1 - fpr))\n",
        "ix = np.argmax(gmeans)\n",
        "best_thresh = thresholds[ix]\n",
        "\n",
        "plt.plot([0, 1], [0, 1], linestyle=\"--\", label=\"No Skill\")\n",
        "plt.plot(fpr, tpr, marker=\".\", label=\"Logistic\")\n",
        "plt.xlabel(\"FPR\")\n",
        "plt.ylabel(\"TPR\")\n",
        "plt.title(\"ROC Curve. Best threshold: %.4f\" % best_thresh)\n",
        "plt.legend()\n",
        "plt.show()"
      ],
      "metadata": {
        "colab": {
          "base_uri": "https://localhost:8080/",
          "height": 472
        },
        "id": "HVBYk7oaGG7q",
        "outputId": "51106bdf-38f0-4e26-c00d-831f38e1bbc9"
      },
      "execution_count": 144,
      "outputs": [
        {
          "output_type": "display_data",
          "data": {
            "text/plain": [
              "<Figure size 640x480 with 1 Axes>"
            ],
            "image/png": "[encoded data removed]"
          },
          "metadata": {}
        }
      ]
    },
    {
      "cell_type": "code",
      "source": [
        "joblib.dump({\"classifier\": model_final, \"threshold\": best_thresh}, \"/content/classifier.pkl\")"
      ],
      "metadata": {
        "colab": {
          "base_uri": "https://localhost:8080/"
        },
        "id": "rQeMvmbeCs5b",
        "outputId": "be00c2e5-a3ac-4e0d-cb7c-e5589f970b2d"
      },
      "execution_count": 145,
      "outputs": [
        {
          "output_type": "execute_result",
          "data": {
            "text/plain": [
              "['/content/classifier.pkl']"
            ]
          },
          "metadata": {},
          "execution_count": 145
        }
      ]
    },
    {
      "cell_type": "code",
      "source": [
        "sns.boxplot(train_scores, orient=\"h\")\n",
        "plt.title(\"Train probs\")\n",
        "plt.show()"
      ],
      "metadata": {
        "colab": {
          "base_uri": "https://localhost:8080/",
          "height": 452
        },
        "id": "Jd3JsH3lpM5Z",
        "outputId": "d1a66f8e-19ef-45f9-f7a1-26ef1d7045cb"
      },
      "execution_count": 146,
      "outputs": [
        {
          "output_type": "display_data",
          "data": {
            "text/plain": [
              "<Figure size 640x480 with 1 Axes>"
            ],
            "image/png": "[encoded data removed]"
          },
          "metadata": {}
        }
      ]
    },
    {
      "cell_type": "code",
      "source": [
        "sns.boxplot(valid_scores, orient=\"h\")\n",
        "plt.title(\"Valid probs\")\n",
        "plt.show()"
      ],
      "metadata": {
        "colab": {
          "base_uri": "https://localhost:8080/",
          "height": 452
        },
        "id": "E5OFNiGsCnFT",
        "outputId": "4402d025-8b7c-4113-8435-5db94d9c0ba2"
      },
      "execution_count": 147,
      "outputs": [
        {
          "output_type": "display_data",
          "data": {
            "text/plain": [
              "<Figure size 640x480 with 1 Axes>"
            ],
            "image/png": "[encoded data removed]"
          },
          "metadata": {}
        }
      ]
    },
    {
      "cell_type": "code",
      "source": [
        "train_preds = model.predict(train.drop(dropcols, axis=1))\n",
        "valid_preds = model.predict(valid.drop(dropcols, axis=1))\n",
        "\n",
        "test_scores = model.predict_proba(test.drop(dropcols, axis=1))\n",
        "test_preds = model.predict(test.drop(dropcols, axis=1))"
      ],
      "metadata": {
        "id": "BrEsQmjDZZqO"
      },
      "execution_count": 148,
      "outputs": []
    },
    {
      "cell_type": "code",
      "source": [
        "print(\"TRAIN results\")\n",
        "print(\"AUC-ROC score: %.3f\" % roc_auc_score(train[\"label\"], train_scores[:, 1]))\n",
        "print(\"Metrics over model predicts\")\n",
        "print(classification_report(train[\"label\"], train_preds))\n",
        "print(\"Metrics over model scores with threshold\")\n",
        "print(classification_report(train[\"label\"], (train_scores[:, 1] > best_thresh).astype(int)))\n",
        "print(\"\\n\\n\")\n",
        "print(\"VALID results\")\n",
        "print(\"AUC-ROC score: %.3f\" % roc_auc_score(valid[\"label\"], valid_scores[:, 1]))\n",
        "print(\"Metrics over model predicts\")\n",
        "print(classification_report(valid[\"label\"], valid_preds))\n",
        "print(\"Metrics over model scores with threshold\")\n",
        "print(classification_report(valid[\"label\"], (valid_scores[:, 1] > best_thresh).astype(int)))\n",
        "print(\"TEST results\")\n",
        "print(f\"Number of positive matches: {test_preds.sum()}\")\n",
        "print(f\"Number of positive matches after threshold: {(valid_scores[:, 1] > best_thresh).sum()}\")"
      ],
      "metadata": {
        "colab": {
          "base_uri": "https://localhost:8080/"
        },
        "id": "FI2v4VGvSEac",
        "outputId": "622c1502-d0e4-44c5-8487-390952fbd9e8"
      },
      "execution_count": 149,
      "outputs": [
        {
          "output_type": "stream",
          "name": "stdout",
          "text": [
            "TRAIN results\n",
            "AUC-ROC score: 1.000\n",
            "Metrics over model predicts\n",
            "              precision    recall  f1-score   support\n",
            "\n",
            "           0       1.00      1.00      1.00    137759\n",
            "           1       0.95      0.64      0.76       218\n",
            "\n",
            "    accuracy                           1.00    137977\n",
            "   macro avg       0.98      0.82      0.88    137977\n",
            "weighted avg       1.00      1.00      1.00    137977\n",
            "\n",
            "Metrics over model scores with threshold\n",
            "              precision    recall  f1-score   support\n",
            "\n",
            "           0       1.00      0.98      0.99    137759\n",
            "           1       0.08      1.00      0.15       218\n",
            "\n",
            "    accuracy                           0.98    137977\n",
            "   macro avg       0.54      0.99      0.57    137977\n",
            "weighted avg       1.00      0.98      0.99    137977\n",
            "\n",
            "\n",
            "\n",
            "\n",
            "VALID results\n",
            "AUC-ROC score: 0.994\n",
            "Metrics over model predicts\n",
            "              precision    recall  f1-score   support\n",
            "\n",
            "           0       1.00      1.00      1.00     34722\n",
            "           1       0.12      0.23      0.16        13\n",
            "\n",
            "    accuracy                           1.00     34735\n",
            "   macro avg       0.56      0.62      0.58     34735\n",
            "weighted avg       1.00      1.00      1.00     34735\n",
            "\n",
            "Metrics over model scores with threshold\n",
            "              precision    recall  f1-score   support\n",
            "\n",
            "           0       1.00      0.96      0.98     34722\n",
            "           1       0.01      0.92      0.02        13\n",
            "\n",
            "    accuracy                           0.96     34735\n",
            "   macro avg       0.50      0.94      0.50     34735\n",
            "weighted avg       1.00      0.96      0.98     34735\n",
            "\n",
            "TEST results\n",
            "Number of positive matches: 7\n",
            "Number of positive matches after threshold: 1494\n"
          ]
        }
      ]
    },
    {
      "cell_type": "code",
      "source": [
        "r = 0\n",
        "for _, row in test[test_preds == 1].sample(frac=1.).iterrows():\n",
        "  if r == 10:\n",
        "    break\n",
        "  print(f\"candidate (file: {row['doc_name']}, p: {row['page_num']}): {row['candidate']}\\nfor targets: {row['targets']}\")\n",
        "  print(\"\\n\")\n",
        "  r += 1"
      ],
      "metadata": {
        "colab": {
          "base_uri": "https://localhost:8080/"
        },
        "id": "4tfAeJIGLi9h",
        "outputId": "6f7089c8-27d6-43ac-9718-1287c66a42cb"
      },
      "execution_count": 150,
      "outputs": [
        {
          "output_type": "stream",
          "name": "stdout",
          "text": [
            "candidate (file: Раздел ИИ ИЭИ4.1.06920-22_ГГЭ-35136.pdf, p: 23): харабалинского и ахтубинского района астраханской области\n",
            "for targets: харабалинского и ахтубинского районов астраханской области\n",
            "\n",
            "\n",
            "candidate (file: Раздел ИИ ИЭИ4.1.06920-22_ГГЭ-35136.pdf, p: 5): харабалинского и ахтубинского района астраханской области\n",
            "for targets: харабалинского и ахтубинского районов астраханской области\n",
            "\n",
            "\n",
            "candidate (file: Раздел ИИ ИЭИ4.1.06920-22_ГГЭ-35136.pdf, p: 38): харабалинского и ахтубинского районов астраханской области в\n",
            "for targets: харабалинского и ахтубинского районов астраханской области\n",
            "\n",
            "\n",
            "candidate (file: Раздел ИИ ИЭИ4.1.06920-22_ГГЭ-35136.pdf, p: 30): харабалинского ахтубинского районов астраханской области\n",
            "for targets: харабалинского и ахтубинского районов астраханской области\n",
            "\n",
            "\n",
            "candidate (file: Раздел ИИ ИЭИ4.1.06920-22_ГГЭ-35136.pdf, p: 57): харабалинского и ахтубинского районов астраханской области не\n",
            "for targets: харабалинского и ахтубинского районов астраханской области\n",
            "\n",
            "\n",
            "candidate (file: Раздел ИИ ИЭИ4.1.06920-22_ГГЭ-35136.pdf, p: 25): харабалинского и ахтубинского района астраханской области\n",
            "for targets: харабалинского и ахтубинского районов астраханской области\n",
            "\n",
            "\n",
            "candidate (file: Раздел ИИ ИЭИ4.1.06920-22_ГГЭ-35136.pdf, p: 120): харабалинского и ахтубинского районов астраханской области.\n",
            "for targets: харабалинского и ахтубинского районов астраханской области\n",
            "\n",
            "\n"
          ]
        }
      ]
    },
    {
      "cell_type": "code",
      "source": [
        "print(\"FALSE POSITIVES\")\n",
        "r = 0\n",
        "for _, row in valid[(valid_preds == 1) & (valid[\"label\"] == 0)].sample(frac=1.).iterrows():\n",
        "  if r == 10:\n",
        "    break\n",
        "  print(f\"candidate (file: {row['doc_name']}, p: {row['page_num']}): {row['candidate']}\\nfor targets: {row['targets']}\")\n",
        "  print(\"\\n\")\n",
        "  r += 1"
      ],
      "metadata": {
        "colab": {
          "base_uri": "https://localhost:8080/"
        },
        "id": "RNb63xjiDTAT",
        "outputId": "debd8f0a-bbec-4b31-e8ef-fcf332cc9634"
      },
      "execution_count": 151,
      "outputs": [
        {
          "output_type": "stream",
          "name": "stdout",
          "text": [
            "FALSE POSITIVES\n",
            "candidate (file: doc_2_Том 5.00001-21_ЕГЭ-26404.pdf, p: 11): строительства и обустройства скважин куста 10 гарюшкинского месторождения\n",
            "for targets: строительство и обустройство скважин куста 10 гарюшкинского месторождения\n",
            "\n",
            "\n",
            "candidate (file: doc_2_Раздел ПД №1 Часть №2 Изм.1.00001-21_ЕГЭ-26404.pdf, p: 69): строительство и обустройство скважин куста 10 гарюшкинского месторождения л д\n",
            "for targets: строительство и обустройство скважин куста 10 гарюшкинского месторождения\n",
            "\n",
            "\n",
            "candidate (file: doc_2_Раздел ПД №1 Часть №2 Изм.1.00001-21_ЕГЭ-26404.pdf, p: 47): строительство и обустройство скважин куста 10 гарюшкинского месторождения л д\n",
            "for targets: строительство и обустройство скважин куста 10 гарюшкинского месторождения\n",
            "\n",
            "\n",
            "candidate (file: doc_2_Раздел ПД №1 Часть №2 Изм.1.00001-21_ЕГЭ-26404.pdf, p: 51): строительство и обустройство скважин куста 10 гарюшкинского месторождения л д\n",
            "for targets: строительство и обустройство скважин куста 10 гарюшкинского месторождения\n",
            "\n",
            "\n",
            "candidate (file: doc_2_Раздел ПД №1 Часть №2 Изм.1.00001-21_ЕГЭ-26404.pdf, p: 22): строительства и обустройства скважин куста 10 гарюшкинского месторождения -\n",
            "for targets: строительство и обустройство скважин куста 10 гарюшкинского месторождения\n",
            "\n",
            "\n",
            "candidate (file: doc_2_Раздел ПД №1 Часть №2 Изм.1.00001-21_ЕГЭ-26404.pdf, p: 71): строительства и обустройства скважин куста 10 гарюшкинского месторождения\n",
            "for targets: строительство и обустройство скважин куста 10 гарюшкинского месторождения\n",
            "\n",
            "\n",
            "candidate (file: doc_2_Раздел ПД №1 Часть №2 Изм.1.00001-21_ЕГЭ-26404.pdf, p: 71): строительства и обустройства скважин куста 10 гарюшкинского месторождения л\n",
            "for targets: строительство и обустройство скважин куста 10 гарюшкинского месторождения\n",
            "\n",
            "\n",
            "candidate (file: doc_2_Раздел ПД №1 Часть №2 Изм.1.00001-21_ЕГЭ-26404.pdf, p: 71): строительства и обустройства скважин куста 10 гарюшкинского месторождения л д о\n",
            "for targets: строительство и обустройство скважин куста 10 гарюшкинского месторождения\n",
            "\n",
            "\n",
            "candidate (file: doc_2_Том 5.00001-21_ЕГЭ-26404.pdf, p: 5): строительство и обустройство куста 10 гарюшкинского\n",
            "for targets: строительство и обустройство скважин куста 10 гарюшкинского месторождения\n",
            "\n",
            "\n",
            "candidate (file: doc_2_Том 5.00001-21_ЕГЭ-26404.pdf, p: 5): строительства и обустройства скважин куста 10 гарюшкинского месторождения\n",
            "for targets: строительство и обустройство скважин куста 10 гарюшкинского месторождения\n",
            "\n",
            "\n"
          ]
        }
      ]
    },
    {
      "cell_type": "code",
      "source": [
        "print(\"FALSE NEGATIVES\")\n",
        "r = 0\n",
        "for _, row in valid[(valid_preds == 0) & (valid[\"label\"] == 1)].sample(frac=1.).iterrows():\n",
        "  if r == 10:\n",
        "    break\n",
        "  print(f\"candidate (file: {row['doc_name']}, p: {row['page_num']}): {row['candidate']}\\nfor targets: {row['targets']}\")\n",
        "  print(\"\\n\")\n",
        "  r += 1"
      ],
      "metadata": {
        "colab": {
          "base_uri": "https://localhost:8080/"
        },
        "id": "ZH1ejCIsDE_u",
        "outputId": "c6420d67-a15f-4bb3-839d-80874e62f05a"
      },
      "execution_count": 152,
      "outputs": [
        {
          "output_type": "stream",
          "name": "stdout",
          "text": [
            "FALSE NEGATIVES\n",
            "candidate (file: doc_1_Раздел ПД №10_Том 10.4_51-10.00027-21_СКЭ-25982.pdf, p: 4): капитальный ремонт автомобильной дороги р-215 астрахань-кочубей-кизляр-махачкала подъезд к г. грозный на участке км 70+127 - км 85+267 чеченская республика\n",
            "for targets: капитальный ремонт автомобильной дороги р-215 астрахань - кочубей - кизляр - махачкала подъезд к г. грозный на участке км 70+127 - км 85+267 чеченская республика\n",
            "\n",
            "\n",
            "candidate (file: doc_1_Раздел ПД №3_Том 3.3_51-ТКР..00027-21_СКЭ-25982.pdf, p: 5): капитальный ремонт автомобильной дороги р-215 астрахань - кочубей - кизляр - махачкала подъезд к г. грозный на участке км 70+127 - км 85+267 чеченская республика.\n",
            "for targets: капитальный ремонт автомобильной дороги р-215 астрахань - кочубей - кизляр - махачкала подъезд к г. грозный на участке км 70+127 - км 85+267 чеченская республика\n",
            "\n",
            "\n",
            "candidate (file: doc_2_Раздел ПД №1 Часть №2 Изм.1.00001-21_ЕГЭ-26404.pdf, p: 8): строительство и обустройство скважин куста 10 гарюшкинского месторождения .\n",
            "for targets: строительство и обустройство скважин куста 10 гарюшкинского месторождения\n",
            "\n",
            "\n",
            "candidate (file: doc_1_Раздел ПД №1_Том 1_51-ПЗ.00027-21_СКЭ-25982.pdf, p: 6): капитальный ремонт автомобильной дороги р- 215 астрахань - кочубей - кизляр - махачкала подъезд к г. грозный на участке км 70+127 - км 85+267 чеченская республика\n",
            "for targets: капитальный ремонт автомобильной дороги р-215 астрахань - кочубей - кизляр - махачкала подъезд к г. грозный на участке км 70+127 - км 85+267 чеченская республика\n",
            "\n",
            "\n",
            "candidate (file: doc_1_Раздел ПД №5_Том5_51-ПОС.00027-21_СКЭ-25982.pdf, p: 2): капитальный ремонт автомобильной дороги р-215 астрахань - кочубей - кизляр - махачкала подъезд к г.грозный на участке км 70+127 - км 85+267 чеченская республика\n",
            "for targets: капитальный ремонт автомобильной дороги р-215 астрахань - кочубей - кизляр - махачкала подъезд к г. грозный на участке км 70+127 - км 85+267 чеченская республика\n",
            "\n",
            "\n",
            "candidate (file: doc_2_Раздел ПД №1 Часть №2 Изм.1.00001-21_ЕГЭ-26404.pdf, p: 6): строительство и обустройство скважин куста 10 гарюшкинского месторождения .\n",
            "for targets: строительство и обустройство скважин куста 10 гарюшкинского месторождения\n",
            "\n",
            "\n",
            "candidate (file: doc_1_Раздел ПД №2_Том 2_51-ППО.00027-21_СКЭ-25982.pdf, p: 5): капитальный ремонт автомобильной дороги р- 215 астрахань - кочубей - кизляр - махачкала подъезд к г. грозный на участке км 70+127 - км 85+267 чеченская республика\n",
            "for targets: капитальный ремонт автомобильной дороги р-215 астрахань - кочубей - кизляр - махачкала подъезд к г. грозный на участке км 70+127 - км 85+267 чеченская республика\n",
            "\n",
            "\n",
            "candidate (file: doc_2_Раздел ПД №1 Часть №2 Изм.1.00001-21_ЕГЭ-26404.pdf, p: 4): строительство и обустройство скважин куста 10 гарюшкинского\n",
            "for targets: строительство и обустройство скважин куста 10 гарюшкинского месторождения\n",
            "\n",
            "\n",
            "candidate (file: doc_2_Раздел ПД №1 Часть №2 Изм.1.00001-21_ЕГЭ-26404.pdf, p: 4): строительство и обустройство скважин куста 10 гарюшкинского месторождения утверждённое\n",
            "for targets: строительство и обустройство скважин куста 10 гарюшкинского месторождения\n",
            "\n",
            "\n",
            "candidate (file: doc_2_Раздел ПД №1 Часть №2 Изм.1.00001-21_ЕГЭ-26404.pdf, p: 7): обустройство скважин куста 10 гарюшкинского месторождения\n",
            "for targets: строительство и обустройство скважин куста 10 гарюшкинского месторождения\n",
            "\n",
            "\n"
          ]
        }
      ]
    },
    {
      "cell_type": "code",
      "source": [
        "cm = confusion_matrix(train[\"label\"], train_preds)\n",
        "cmd = ConfusionMatrixDisplay(cm)\n",
        "cmd.plot(cmap=\"OrRd\", colorbar=False)\n",
        "plt.title(\"Train confusion matrix\")\n",
        "plt.show()"
      ],
      "metadata": {
        "colab": {
          "base_uri": "https://localhost:8080/",
          "height": 472
        },
        "id": "x2LROKjkn0ZG",
        "outputId": "01673c5d-7c65-4ced-caf3-a127fe366269"
      },
      "execution_count": 153,
      "outputs": [
        {
          "output_type": "display_data",
          "data": {
            "text/plain": [
              "<Figure size 640x480 with 1 Axes>"
            ],
            "image/png": "[encoded data removed]"
          },
          "metadata": {}
        }
      ]
    },
    {
      "cell_type": "code",
      "source": [
        "cm = confusion_matrix(valid[\"label\"], valid_preds)\n",
        "cmd = ConfusionMatrixDisplay(cm)\n",
        "cmd.plot(cmap=\"OrRd\", colorbar=False)\n",
        "plt.title(\"Valid confusion matrix\")\n",
        "plt.show()"
      ],
      "metadata": {
        "colab": {
          "base_uri": "https://localhost:8080/",
          "height": 472
        },
        "id": "hSJreS4poc-w",
        "outputId": "c44535e2-91de-4b50-eb41-38839eb21dac"
      },
      "execution_count": 154,
      "outputs": [
        {
          "output_type": "display_data",
          "data": {
            "text/plain": [
              "<Figure size 640x480 with 1 Axes>"
            ],
            "image/png": "[encoded data removed]"
          },
          "metadata": {}
        }
      ]
    },
    {
      "cell_type": "code",
      "source": [
        "cm = confusion_matrix(valid[\"label\"], (valid_scores[:, 1] > best_thresh).astype(int))\n",
        "cmd = ConfusionMatrixDisplay(cm)\n",
        "cmd.plot(cmap=\"OrRd\", colorbar=False)\n",
        "plt.title(\"Valid confusion matrix + Threshold\")\n",
        "plt.show()"
      ],
      "metadata": {
        "colab": {
          "base_uri": "https://localhost:8080/",
          "height": 472
        },
        "id": "7tgJXzH8og6u",
        "outputId": "0ebb494f-7c9e-4008-97ec-25e38376685c"
      },
      "execution_count": 155,
      "outputs": [
        {
          "output_type": "display_data",
          "data": {
            "text/plain": [
              "<Figure size 640x480 with 1 Axes>"
            ],
            "image/png": "[encoded data removed]"
          },
          "metadata": {}
        }
      ]
    },
    {
      "cell_type": "markdown",
      "source": [
        "# DEMO"
      ],
      "metadata": {
        "id": "YOBDi6jeHr-B"
      }
    },
    {
      "cell_type": "code",
      "source": [
        "doc = \"Раздел ИИ ИЭИ4.1.06920-22_ГГЭ-35136.pdf\""
      ],
      "metadata": {
        "id": "lqBor2i8PrZP"
      },
      "execution_count": 156,
      "outputs": []
    },
    {
      "cell_type": "code",
      "source": [
        "res = all_documents[\"ПД для ИИ\"][doc]\n",
        "len(res)"
      ],
      "metadata": {
        "colab": {
          "base_uri": "https://localhost:8080/"
        },
        "id": "ISfxCXYDDFI4",
        "outputId": "a84742c0-22aa-459d-d6c5-86f12a525e79"
      },
      "execution_count": 157,
      "outputs": [
        {
          "output_type": "execute_result",
          "data": {
            "text/plain": [
              "219"
            ]
          },
          "metadata": {},
          "execution_count": 157
        }
      ]
    },
    {
      "cell_type": "code",
      "source": [
        "base_name = preprocess_text(\n",
        "\"\"\"«Газопровод-отвод «Харабали – Ахтубинск 2 - Ахтубинск 1»\n",
        "\n",
        "Харабалинского и Ахтубинского районов\n",
        "\n",
        "Астраханской области»\"\"\"\n",
        ")"
      ],
      "metadata": {
        "id": "Fvg_OLT7IjjC"
      },
      "execution_count": 158,
      "outputs": []
    },
    {
      "cell_type": "code",
      "source": [
        "candidates = []\n",
        "for page_num, context in tqdm(res.items()):\n",
        "  raw_candidates = [\" \".join(ngram) for ngram in everygrams(preprocess_text(context[\"text\"]).split(),\n",
        "                                                            min_len=int(len(base_name.split())/1.5),\n",
        "                                                            max_len=len(base_name.split())+5)]\n",
        "  for candidate in raw_candidates:\n",
        "      score = rapidfuzz.fuzz.QRatio(base_name, candidate)\n",
        "      if score > CANDIDATES_SIMILARITY:\n",
        "          candidates.append(( \"ПД для ИИ\",\n",
        "                              doc,\n",
        "                              page_num,\n",
        "                              candidate,\n",
        "                              None ))\n",
        "\n",
        "len(candidates)"
      ],
      "metadata": {
        "colab": {
          "base_uri": "https://localhost:8080/"
        },
        "id": "haPrcqN1HCsI",
        "outputId": "ae4302ad-541c-4fd2-e1ca-dfe2b23f25f4"
      },
      "execution_count": 159,
      "outputs": [
        {
          "output_type": "stream",
          "name": "stderr",
          "text": [
            "100%|██████████| 219/219 [00:00<00:00, 411.03it/s]\n"
          ]
        },
        {
          "output_type": "execute_result",
          "data": {
            "text/plain": [
              "3594"
            ]
          },
          "metadata": {},
          "execution_count": 159
        }
      ]
    },
    {
      "cell_type": "code",
      "source": [
        "demo_df = pd.DataFrame(candidates, columns=[\"group_name\", \"doc_name\", \"page_num\", \"candidate\", \"label\"])\n",
        "demo_df[\"targets\"] = base_name"
      ],
      "metadata": {
        "id": "VQtu9QqsHVbF"
      },
      "execution_count": 160,
      "outputs": []
    },
    {
      "cell_type": "code",
      "source": [
        "demo_df = generate_features(demo_df)"
      ],
      "metadata": {
        "colab": {
          "base_uri": "https://localhost:8080/"
        },
        "id": "rokL6kvCHVdx",
        "outputId": "9e57d34e-67f5-41f3-c315-f05fce4a1e50"
      },
      "execution_count": 161,
      "outputs": [
        {
          "output_type": "stream",
          "name": "stdout",
          "text": [
            "calculate editions\n",
            "calculate string sims\n",
            "calculate union chars\n",
            "calculate candidates characteristics\n",
            "calculate targets characteristics\n"
          ]
        }
      ]
    },
    {
      "cell_type": "code",
      "source": [
        "demo_preds = model_final.predict(demo_df.drop(dropcols, axis=1))\n",
        "demo_scores = model_final.predict_proba(demo_df.drop(dropcols, axis=1))"
      ],
      "metadata": {
        "id": "A59QUXqhHVgZ"
      },
      "execution_count": 163,
      "outputs": []
    },
    {
      "cell_type": "code",
      "source": [
        "r = 0\n",
        "for _, row in demo_df[demo_scores[:, 1] > best_thresh].sample(frac=1.).iterrows():\n",
        "  if r == 10:\n",
        "    break\n",
        "  print(f\"candidate (file: {row['doc_name']}, p: {row['page_num']}): {row['candidate']}\\nfor targets: {row['targets']}\")\n",
        "  print(\"\\n\")\n",
        "  r += 1"
      ],
      "metadata": {
        "colab": {
          "base_uri": "https://localhost:8080/"
        },
        "id": "Ox-SOs80HCu4",
        "outputId": "7f6142c0-9af2-4c64-e757-198e261feb39"
      },
      "execution_count": 164,
      "outputs": [
        {
          "output_type": "stream",
          "name": "stdout",
          "text": [
            "candidate (file: Раздел ИИ ИЭИ4.1.06920-22_ГГЭ-35136.pdf, p: 33): газопровода-отвода харабали-ахтубинск-2-ахтубинск-1 харабалинского и ахтубинского районов астраханской области расположена в прикаспийской низменности на левобережной пойменной\n",
            "for targets: газопровод-отвод харабали - ахтубинск 2 - ахтубинск 1 харабалинского и ахтубинского районов астраханской области\n",
            "\n",
            "\n",
            "candidate (file: Раздел ИИ ИЭИ4.1.06920-22_ГГЭ-35136.pdf, p: 9): газопровод-отвод - ахтубинск харабалинского и ахтубинского районов астраханской области\n",
            "for targets: газопровод-отвод харабали - ахтубинск 2 - ахтубинск 1 харабалинского и ахтубинского районов астраханской области\n",
            "\n",
            "\n",
            "candidate (file: Раздел ИИ ИЭИ4.1.06920-22_ГГЭ-35136.pdf, p: 130): газопровод- отвод харабали - ахтубинск 2 - ахтубинск 1 харабалинского\n",
            "for targets: газопровод-отвод харабали - ахтубинск 2 - ахтубинск 1 харабалинского и ахтубинского районов астраханской области\n",
            "\n",
            "\n",
            "candidate (file: Раздел ИИ ИЭИ4.1.06920-22_ГГЭ-35136.pdf, p: 0): газопровод-отвод харабали - ахтубинск 2 - ахтубинск 1 харабалинского и ахтубинского районов астраханской области\n",
            "for targets: газопровод-отвод харабали - ахтубинск 2 - ахтубинск 1 харабалинского и ахтубинского районов астраханской области\n",
            "\n",
            "\n",
            "candidate (file: Раздел ИИ ИЭИ4.1.06920-22_ГГЭ-35136.pdf, p: 36): газопровода и его отводов к селам харабалинского и ахтубинского районов астраханской области естественных\n",
            "for targets: газопровод-отвод харабали - ахтубинск 2 - ахтубинск 1 харабалинского и ахтубинского районов астраханской области\n",
            "\n",
            "\n",
            "candidate (file: Раздел ИИ ИЭИ4.1.06920-22_ГГЭ-35136.pdf, p: 30): газопровода-отвода харабали - ахтубинск-2 - ахтубинск-1 харабалинского и ахтубинского районов астраханской области проектируется\n",
            "for targets: газопровод-отвод харабали - ахтубинск 2 - ахтубинск 1 харабалинского и ахтубинского районов астраханской области\n",
            "\n",
            "\n",
            "candidate (file: Раздел ИИ ИЭИ4.1.06920-22_ГГЭ-35136.pdf, p: 39): газопровод-отвод харабали - ахтубинск-2 - ахтубинск-1 харабалинского и ахтубинского районов астраханской области\n",
            "for targets: газопровод-отвод харабали - ахтубинск 2 - ахтубинск 1 харабалинского и ахтубинского районов астраханской области\n",
            "\n",
            "\n",
            "candidate (file: Раздел ИИ ИЭИ4.1.06920-22_ГГЭ-35136.pdf, p: 5): газопровод-отвод харабали - ахтубинск 2 - ахтубинск 1 харабалинского и ахтубинского района астраханской\n",
            "for targets: газопровод-отвод харабали - ахтубинск 2 - ахтубинск 1 харабалинского и ахтубинского районов астраханской области\n",
            "\n",
            "\n",
            "candidate (file: Раздел ИИ ИЭИ4.1.06920-22_ГГЭ-35136.pdf, p: 12): газопровол-отвод харабали-ахтубинск 2 - ахтубинск 1 харабалинского и ахтубинского районов астраханской области dn300\n",
            "for targets: газопровод-отвод харабали - ахтубинск 2 - ахтубинск 1 харабалинского и ахтубинского районов астраханской области\n",
            "\n",
            "\n",
            "candidate (file: Раздел ИИ ИЭИ4.1.06920-22_ГГЭ-35136.pdf, p: 33): газопровода-отвода харабали-ахтубинск-2-ахтубинск-1 харабалинского и ахтубинского районов астраханской области расположена в прикаспийской низменности на\n",
            "for targets: газопровод-отвод харабали - ахтубинск 2 - ахтубинск 1 харабалинского и ахтубинского районов астраханской области\n",
            "\n",
            "\n"
          ]
        }
      ]
    },
    {
      "cell_type": "code",
      "source": [
        "demo_df[\"score\"] = demo_scores[:, 1]\n",
        "demo_df[\"page_num\"] = demo_df[\"page_num\"] + 1\n",
        "\n",
        "demo_df.loc[demo_df[\"targets\"] == demo_df[\"candidate\"], \"score\"] = 1.\n",
        "\n",
        "demo_df = demo_df[demo_df[\"score\"] > best_thresh] \\\n",
        "  .sort_values([\"score\"], ascending=False)\n",
        "demo_df = demo_df.groupby([\"doc_name\", \"page_num\", \"targets\"]) \\\n",
        "  .agg({\"candidate\": \"first\",\n",
        "        \"score\": max}) \\\n",
        "  .reset_index() \\\n",
        "  .sort_values([\"page_num\"]) \\\n",
        "  .rename(columns={\"doc_name\": \"Наименование файла\",\n",
        "                   \"page_num\": \"Номер страницы\",\n",
        "                   \"targets\": \"Распознанное наименование объекта\",\n",
        "                   \"candidate\": \"Совпадения по тексту документа\",\n",
        "                   \"score\": \"Уверенность в совпадении\"})"
      ],
      "metadata": {
        "id": "iXyLa68imRrK"
      },
      "execution_count": 165,
      "outputs": []
    },
    {
      "cell_type": "code",
      "source": [
        "demo_df"
      ],
      "metadata": {
        "colab": {
          "base_uri": "https://localhost:8080/",
          "height": 658
        },
        "id": "vKzM0JdvJBah",
        "outputId": "763e44c7-dbdd-435c-a10a-0795d3c5344a"
      },
      "execution_count": 166,
      "outputs": [
        {
          "output_type": "execute_result",
          "data": {
            "text/plain": [
              "                         Наименование файла  Номер страницы  \\\n",
              "0   Раздел ИИ ИЭИ4.1.06920-22_ГГЭ-35136.pdf               1   \n",
              "1   Раздел ИИ ИЭИ4.1.06920-22_ГГЭ-35136.pdf               2   \n",
              "2   Раздел ИИ ИЭИ4.1.06920-22_ГГЭ-35136.pdf               3   \n",
              "3   Раздел ИИ ИЭИ4.1.06920-22_ГГЭ-35136.pdf               6   \n",
              "4   Раздел ИИ ИЭИ4.1.06920-22_ГГЭ-35136.pdf               9   \n",
              "5   Раздел ИИ ИЭИ4.1.06920-22_ГГЭ-35136.pdf              10   \n",
              "6   Раздел ИИ ИЭИ4.1.06920-22_ГГЭ-35136.pdf              13   \n",
              "7   Раздел ИИ ИЭИ4.1.06920-22_ГГЭ-35136.pdf              24   \n",
              "8   Раздел ИИ ИЭИ4.1.06920-22_ГГЭ-35136.pdf              26   \n",
              "9   Раздел ИИ ИЭИ4.1.06920-22_ГГЭ-35136.pdf              31   \n",
              "10  Раздел ИИ ИЭИ4.1.06920-22_ГГЭ-35136.pdf              34   \n",
              "11  Раздел ИИ ИЭИ4.1.06920-22_ГГЭ-35136.pdf              37   \n",
              "12  Раздел ИИ ИЭИ4.1.06920-22_ГГЭ-35136.pdf              39   \n",
              "13  Раздел ИИ ИЭИ4.1.06920-22_ГГЭ-35136.pdf              40   \n",
              "14  Раздел ИИ ИЭИ4.1.06920-22_ГГЭ-35136.pdf              54   \n",
              "15  Раздел ИИ ИЭИ4.1.06920-22_ГГЭ-35136.pdf             114   \n",
              "16  Раздел ИИ ИЭИ4.1.06920-22_ГГЭ-35136.pdf             120   \n",
              "17  Раздел ИИ ИЭИ4.1.06920-22_ГГЭ-35136.pdf             131   \n",
              "\n",
              "                    Распознанное наименование объекта  \\\n",
              "0   газопровод-отвод харабали - ахтубинск 2 - ахту...   \n",
              "1   газопровод-отвод харабали - ахтубинск 2 - ахту...   \n",
              "2   газопровод-отвод харабали - ахтубинск 2 - ахту...   \n",
              "3   газопровод-отвод харабали - ахтубинск 2 - ахту...   \n",
              "4   газопровод-отвод харабали - ахтубинск 2 - ахту...   \n",
              "5   газопровод-отвод харабали - ахтубинск 2 - ахту...   \n",
              "6   газопровод-отвод харабали - ахтубинск 2 - ахту...   \n",
              "7   газопровод-отвод харабали - ахтубинск 2 - ахту...   \n",
              "8   газопровод-отвод харабали - ахтубинск 2 - ахту...   \n",
              "9   газопровод-отвод харабали - ахтубинск 2 - ахту...   \n",
              "10  газопровод-отвод харабали - ахтубинск 2 - ахту...   \n",
              "11  газопровод-отвод харабали - ахтубинск 2 - ахту...   \n",
              "12  газопровод-отвод харабали - ахтубинск 2 - ахту...   \n",
              "13  газопровод-отвод харабали - ахтубинск 2 - ахту...   \n",
              "14  газопровод-отвод харабали - ахтубинск 2 - ахту...   \n",
              "15  газопровод-отвод харабали - ахтубинск 2 - ахту...   \n",
              "16  газопровод-отвод харабали - ахтубинск 2 - ахту...   \n",
              "17  газопровод-отвод харабали - ахтубинск 2 - ахту...   \n",
              "\n",
              "                       Совпадения по тексту документа  \\\n",
              "0   газопровод-отвод харабали - ахтубинск 2 - ахту...   \n",
              "1   газопровод-отвод харабали - ахтубинск 2 - ахту...   \n",
              "2   газопровод-отвод харабали - ахтубинск 2 - ахту...   \n",
              "3   газопровод-отвод харабали - ахтубинск 2 - ахту...   \n",
              "4   газопровод-отвод харабали - ахтубинск-2 - ахту...   \n",
              "5   газопровод-отвод - ахтубинск харабалинского и ...   \n",
              "6   газопровол-отвод харабали-ахтубинск 2 - ахтуби...   \n",
              "7   газопровод-отвод харабали - ахтубинск 2 - ахту...   \n",
              "8   газопровод-отвод харабали - ахтубинск 2 - ахту...   \n",
              "9   газопровода-отвода харабали - ахтубинск-2 - ах...   \n",
              "10  газопровода-отвода харабали-ахтубинск-2-ахтуби...   \n",
              "11  газопровода и его отводов к селам харабалинско...   \n",
              "12  газопровод-отвод харабали - ахтубинск 2 - ахту...   \n",
              "13  газопровод-отвод харабали - ахтубинск-2 - ахту...   \n",
              "14  газопровод-отвод харабали - ахтубинск-2 - ахту...   \n",
              "15  газопровод-отвод харабали-ахтубинск 2- ахтубин...   \n",
              "16  газопровод-отвод харабали - ахтубинск 2 - ахту...   \n",
              "17  газопровод- отвод харабали - ахтубинск 2 - ахт...   \n",
              "\n",
              "    Уверенность в совпадении  \n",
              "0                   1.000000  \n",
              "1                   1.000000  \n",
              "2                   1.000000  \n",
              "3                   0.245762  \n",
              "4                   0.135679  \n",
              "5                   0.012152  \n",
              "6                   0.350947  \n",
              "7                   0.403216  \n",
              "8                   0.245762  \n",
              "9                   0.512824  \n",
              "10                  0.029232  \n",
              "11                  0.024305  \n",
              "12                  1.000000  \n",
              "13                  0.135679  \n",
              "14                  0.135679  \n",
              "15                  0.032282  \n",
              "16                  0.008423  \n",
              "17                  0.226926  "
            ],
            "text/html": [
              "\n",
              "  <div id=\"df-30986fc4-905b-43ef-a284-9b6432962012\">\n",
              "    <div class=\"colab-df-container\">\n",
              "      <div>\n",
              "<style scoped>\n",
              "    .dataframe tbody tr th:only-of-type {\n",
              "        vertical-align: middle;\n",
              "    }\n",
              "\n",
              "    .dataframe tbody tr th {\n",
              "        vertical-align: top;\n",
              "    }\n",
              "\n",
              "    .dataframe thead th {\n",
              "        text-align: right;\n",
              "    }\n",
              "</style>\n",
              "<table border=\"1\" class=\"dataframe\">\n",
              "  <thead>\n",
              "    <tr style=\"text-align: right;\">\n",
              "      <th></th>\n",
              "      <th>Наименование файла</th>\n",
              "      <th>Номер страницы</th>\n",
              "      <th>Распознанное наименование объекта</th>\n",
              "      <th>Совпадения по тексту документа</th>\n",
              "      <th>Уверенность в совпадении</th>\n",
              "    </tr>\n",
              "  </thead>\n",
              "  <tbody>\n",
              "    <tr>\n",
              "      <th>0</th>\n",
              "      <td>Раздел ИИ ИЭИ4.1.06920-22_ГГЭ-35136.pdf</td>\n",
              "      <td>1</td>\n",
              "      <td>газопровод-отвод харабали - ахтубинск 2 - ахту...</td>\n",
              "      <td>газопровод-отвод харабали - ахтубинск 2 - ахту...</td>\n",
              "      <td>1.000000</td>\n",
              "    </tr>\n",
              "    <tr>\n",
              "      <th>1</th>\n",
              "      <td>Раздел ИИ ИЭИ4.1.06920-22_ГГЭ-35136.pdf</td>\n",
              "      <td>2</td>\n",
              "      <td>газопровод-отвод харабали - ахтубинск 2 - ахту...</td>\n",
              "      <td>газопровод-отвод харабали - ахтубинск 2 - ахту...</td>\n",
              "      <td>1.000000</td>\n",
              "    </tr>\n",
              "    <tr>\n",
              "      <th>2</th>\n",
              "      <td>Раздел ИИ ИЭИ4.1.06920-22_ГГЭ-35136.pdf</td>\n",
              "      <td>3</td>\n",
              "      <td>газопровод-отвод харабали - ахтубинск 2 - ахту...</td>\n",
              "      <td>газопровод-отвод харабали - ахтубинск 2 - ахту...</td>\n",
              "      <td>1.000000</td>\n",
              "    </tr>\n",
              "    <tr>\n",
              "      <th>3</th>\n",
              "      <td>Раздел ИИ ИЭИ4.1.06920-22_ГГЭ-35136.pdf</td>\n",
              "      <td>6</td>\n",
              "      <td>газопровод-отвод харабали - ахтубинск 2 - ахту...</td>\n",
              "      <td>газопровод-отвод харабали - ахтубинск 2 - ахту...</td>\n",
              "      <td>0.245762</td>\n",
              "    </tr>\n",
              "    <tr>\n",
              "      <th>4</th>\n",
              "      <td>Раздел ИИ ИЭИ4.1.06920-22_ГГЭ-35136.pdf</td>\n",
              "      <td>9</td>\n",
              "      <td>газопровод-отвод харабали - ахтубинск 2 - ахту...</td>\n",
              "      <td>газопровод-отвод харабали - ахтубинск-2 - ахту...</td>\n",
              "      <td>0.135679</td>\n",
              "    </tr>\n",
              "    <tr>\n",
              "      <th>5</th>\n",
              "      <td>Раздел ИИ ИЭИ4.1.06920-22_ГГЭ-35136.pdf</td>\n",
              "      <td>10</td>\n",
              "      <td>газопровод-отвод харабали - ахтубинск 2 - ахту...</td>\n",
              "      <td>газопровод-отвод - ахтубинск харабалинского и ...</td>\n",
              "      <td>0.012152</td>\n",
              "    </tr>\n",
              "    <tr>\n",
              "      <th>6</th>\n",
              "      <td>Раздел ИИ ИЭИ4.1.06920-22_ГГЭ-35136.pdf</td>\n",
              "      <td>13</td>\n",
              "      <td>газопровод-отвод харабали - ахтубинск 2 - ахту...</td>\n",
              "      <td>газопровол-отвод харабали-ахтубинск 2 - ахтуби...</td>\n",
              "      <td>0.350947</td>\n",
              "    </tr>\n",
              "    <tr>\n",
              "      <th>7</th>\n",
              "      <td>Раздел ИИ ИЭИ4.1.06920-22_ГГЭ-35136.pdf</td>\n",
              "      <td>24</td>\n",
              "      <td>газопровод-отвод харабали - ахтубинск 2 - ахту...</td>\n",
              "      <td>газопровод-отвод харабали - ахтубинск 2 - ахту...</td>\n",
              "      <td>0.403216</td>\n",
              "    </tr>\n",
              "    <tr>\n",
              "      <th>8</th>\n",
              "      <td>Раздел ИИ ИЭИ4.1.06920-22_ГГЭ-35136.pdf</td>\n",
              "      <td>26</td>\n",
              "      <td>газопровод-отвод харабали - ахтубинск 2 - ахту...</td>\n",
              "      <td>газопровод-отвод харабали - ахтубинск 2 - ахту...</td>\n",
              "      <td>0.245762</td>\n",
              "    </tr>\n",
              "    <tr>\n",
              "      <th>9</th>\n",
              "      <td>Раздел ИИ ИЭИ4.1.06920-22_ГГЭ-35136.pdf</td>\n",
              "      <td>31</td>\n",
              "      <td>газопровод-отвод харабали - ахтубинск 2 - ахту...</td>\n",
              "      <td>газопровода-отвода харабали - ахтубинск-2 - ах...</td>\n",
              "      <td>0.512824</td>\n",
              "    </tr>\n",
              "    <tr>\n",
              "      <th>10</th>\n",
              "      <td>Раздел ИИ ИЭИ4.1.06920-22_ГГЭ-35136.pdf</td>\n",
              "      <td>34</td>\n",
              "      <td>газопровод-отвод харабали - ахтубинск 2 - ахту...</td>\n",
              "      <td>газопровода-отвода харабали-ахтубинск-2-ахтуби...</td>\n",
              "      <td>0.029232</td>\n",
              "    </tr>\n",
              "    <tr>\n",
              "      <th>11</th>\n",
              "      <td>Раздел ИИ ИЭИ4.1.06920-22_ГГЭ-35136.pdf</td>\n",
              "      <td>37</td>\n",
              "      <td>газопровод-отвод харабали - ахтубинск 2 - ахту...</td>\n",
              "      <td>газопровода и его отводов к селам харабалинско...</td>\n",
              "      <td>0.024305</td>\n",
              "    </tr>\n",
              "    <tr>\n",
              "      <th>12</th>\n",
              "      <td>Раздел ИИ ИЭИ4.1.06920-22_ГГЭ-35136.pdf</td>\n",
              "      <td>39</td>\n",
              "      <td>газопровод-отвод харабали - ахтубинск 2 - ахту...</td>\n",
              "      <td>газопровод-отвод харабали - ахтубинск 2 - ахту...</td>\n",
              "      <td>1.000000</td>\n",
              "    </tr>\n",
              "    <tr>\n",
              "      <th>13</th>\n",
              "      <td>Раздел ИИ ИЭИ4.1.06920-22_ГГЭ-35136.pdf</td>\n",
              "      <td>40</td>\n",
              "      <td>газопровод-отвод харабали - ахтубинск 2 - ахту...</td>\n",
              "      <td>газопровод-отвод харабали - ахтубинск-2 - ахту...</td>\n",
              "      <td>0.135679</td>\n",
              "    </tr>\n",
              "    <tr>\n",
              "      <th>14</th>\n",
              "      <td>Раздел ИИ ИЭИ4.1.06920-22_ГГЭ-35136.pdf</td>\n",
              "      <td>54</td>\n",
              "      <td>газопровод-отвод харабали - ахтубинск 2 - ахту...</td>\n",
              "      <td>газопровод-отвод харабали - ахтубинск-2 - ахту...</td>\n",
              "      <td>0.135679</td>\n",
              "    </tr>\n",
              "    <tr>\n",
              "      <th>15</th>\n",
              "      <td>Раздел ИИ ИЭИ4.1.06920-22_ГГЭ-35136.pdf</td>\n",
              "      <td>114</td>\n",
              "      <td>газопровод-отвод харабали - ахтубинск 2 - ахту...</td>\n",
              "      <td>газопровод-отвод харабали-ахтубинск 2- ахтубин...</td>\n",
              "      <td>0.032282</td>\n",
              "    </tr>\n",
              "    <tr>\n",
              "      <th>16</th>\n",
              "      <td>Раздел ИИ ИЭИ4.1.06920-22_ГГЭ-35136.pdf</td>\n",
              "      <td>120</td>\n",
              "      <td>газопровод-отвод харабали - ахтубинск 2 - ахту...</td>\n",
              "      <td>газопровод-отвод харабали - ахтубинск 2 - ахту...</td>\n",
              "      <td>0.008423</td>\n",
              "    </tr>\n",
              "    <tr>\n",
              "      <th>17</th>\n",
              "      <td>Раздел ИИ ИЭИ4.1.06920-22_ГГЭ-35136.pdf</td>\n",
              "      <td>131</td>\n",
              "      <td>газопровод-отвод харабали - ахтубинск 2 - ахту...</td>\n",
              "      <td>газопровод- отвод харабали - ахтубинск 2 - ахт...</td>\n",
              "      <td>0.226926</td>\n",
              "    </tr>\n",
              "  </tbody>\n",
              "</table>\n",
              "</div>\n",
              "      <button class=\"colab-df-convert\" onclick=\"convertToInteractive('df-30986fc4-905b-43ef-a284-9b6432962012')\"\n",
              "              title=\"Convert this dataframe to an interactive table.\"\n",
              "              style=\"display:none;\">\n",
              "        \n",
              "  <svg xmlns=\"http://www.w3.org/2000/svg\" height=\"24px\"viewBox=\"0 0 24 24\"\n",
              "       width=\"24px\">\n",
              "    <path d=\"M0 0h24v24H0V0z\" fill=\"none\"/>\n",
              "    <path d=\"M18.56 5.44l.94 2.06.94-2.06 2.06-.94-2.06-.94-.94-2.06-.94 2.06-2.06.94zm-11 1L8.5 8.5l.94-2.06 2.06-.94-2.06-.94L8.5 2.5l-.94 2.06-2.06.94zm10 10l.94 2.06.94-2.06 2.06-.94-2.06-.94-.94-2.06-.94 2.06-2.06.94z\"/><path d=\"M17.41 7.96l-1.37-1.37c-.4-.4-.92-.59-1.43-.59-.52 0-1.04.2-1.43.59L10.3 9.45l-7.72 7.72c-.78.78-.78 2.05 0 2.83L4 21.41c.39.39.9.59 1.41.59.51 0 1.02-.2 1.41-.59l7.78-7.78 2.81-2.81c.8-.78.8-2.07 0-2.86zM5.41 20L4 18.59l7.72-7.72 1.47 1.35L5.41 20z\"/>\n",
              "  </svg>\n",
              "      </button>\n",
              "      \n",
              "  <style>\n",
              "    .colab-df-container {\n",
              "      display:flex;\n",
              "      flex-wrap:wrap;\n",
              "      gap: 12px;\n",
              "    }\n",
              "\n",
              "    .colab-df-convert {\n",
              "      background-color: #E8F0FE;\n",
              "      border: none;\n",
              "      border-radius: 50%;\n",
              "      cursor: pointer;\n",
              "      display: none;\n",
              "      fill: #1967D2;\n",
              "      height: 32px;\n",
              "      padding: 0 0 0 0;\n",
              "      width: 32px;\n",
              "    }\n",
              "\n",
              "    .colab-df-convert:hover {\n",
              "      background-color: #E2EBFA;\n",
              "      box-shadow: 0px 1px 2px rgba(60, 64, 67, 0.3), 0px 1px 3px 1px rgba(60, 64, 67, 0.15);\n",
              "      fill: #174EA6;\n",
              "    }\n",
              "\n",
              "    [theme=dark] .colab-df-convert {\n",
              "      background-color: #3B4455;\n",
              "      fill: #D2E3FC;\n",
              "    }\n",
              "\n",
              "    [theme=dark] .colab-df-convert:hover {\n",
              "      background-color: #434B5C;\n",
              "      box-shadow: 0px 1px 3px 1px rgba(0, 0, 0, 0.15);\n",
              "      filter: drop-shadow(0px 1px 2px rgba(0, 0, 0, 0.3));\n",
              "      fill: #FFFFFF;\n",
              "    }\n",
              "  </style>\n",
              "\n",
              "      <script>\n",
              "        const buttonEl =\n",
              "          document.querySelector('#df-30986fc4-905b-43ef-a284-9b6432962012 button.colab-df-convert');\n",
              "        buttonEl.style.display =\n",
              "          google.colab.kernel.accessAllowed ? 'block' : 'none';\n",
              "\n",
              "        async function convertToInteractive(key) {\n",
              "          const element = document.querySelector('#df-30986fc4-905b-43ef-a284-9b6432962012');\n",
              "          const dataTable =\n",
              "            await google.colab.kernel.invokeFunction('convertToInteractive',\n",
              "                                                     [key], {});\n",
              "          if (!dataTable) return;\n",
              "\n",
              "          const docLinkHtml = 'Like what you see? Visit the ' +\n",
              "            '<a target=\"_blank\" href=https://colab.research.google.com/notebooks/data_table.ipynb>data table notebook</a>'\n",
              "            + ' to learn more about interactive tables.';\n",
              "          element.innerHTML = '';\n",
              "          dataTable['output_type'] = 'display_data';\n",
              "          await google.colab.output.renderOutput(dataTable, element);\n",
              "          const docLink = document.createElement('div');\n",
              "          docLink.innerHTML = docLinkHtml;\n",
              "          element.appendChild(docLink);\n",
              "        }\n",
              "      </script>\n",
              "    </div>\n",
              "  </div>\n",
              "  "
            ]
          },
          "metadata": {},
          "execution_count": 166
        }
      ]
    },
    {
      "cell_type": "code",
      "source": [],
      "metadata": {
        "id": "wUi_NAP5Fegm"
      },
      "execution_count": null,
      "outputs": []
    }
  ]
}